{
 "cells": [
  {
   "cell_type": "code",
   "execution_count": 1,
   "id": "15510824",
   "metadata": {},
   "outputs": [],
   "source": [
    "# Copy in Pycharm"
   ]
  },
  {
   "cell_type": "code",
   "execution_count": 2,
   "id": "fc93ec93",
   "metadata": {},
   "outputs": [],
   "source": [
    "# Write a Python Script that captures images from your webcam video stream\n",
    "# Extracts all Faces from the image frame (using haarcascades)\n",
    "# Stores the Face Information into numpy arrays\n",
    "\n",
    "# 1) Read and show video stream , capture images\n",
    "# 2) Detect faces and show bounding box\n",
    "# 3) Flatten the largest face iamge and save in a numpy array\n",
    "# 4) Repeat the above for multiple people to generate training data"
   ]
  },
  {
   "cell_type": "code",
   "execution_count": null,
   "id": "44f999ef",
   "metadata": {},
   "outputs": [],
   "source": [
    "# Now 1st thing\n",
    "import cv2\n",
    "import numpy\n",
    "\n",
    "#initialize camera\n",
    "cap = cv2.VideoCapture(0)\n",
    "\n",
    "# face detection\n",
    "face_cascade = cv2.CascadeClassifier(\"haarcascade_frontalface_alt.xml\")\n",
    "\n",
    "while True :\n",
    "\n",
    "    # reading what info we are getting from webcam\n",
    "    ret = frame = cap.read()\n",
    "\n",
    "    # if due to any reason , frame is not captured , write again\n",
    "    if ret == False :\n",
    "        continue\n",
    "\n",
    "    cv2.imshow(\"Frame\" , frame)\n",
    "\n",
    "    key_pressed = cv2.waitKey(1) & 0xFF\n",
    "    if key_pressed == ord('q') :\n",
    "        break\n",
    "\n",
    "cap.release()\n",
    "cv2.destroyAllWindows()"
   ]
  }
 ],
 "metadata": {
  "kernelspec": {
   "display_name": "Python 3 (ipykernel)",
   "language": "python",
   "name": "python3"
  },
  "language_info": {
   "codemirror_mode": {
    "name": "ipython",
    "version": 3
   },
   "file_extension": ".py",
   "mimetype": "text/x-python",
   "name": "python",
   "nbconvert_exporter": "python",
   "pygments_lexer": "ipython3",
   "version": "3.9.7"
  }
 },
 "nbformat": 4,
 "nbformat_minor": 5
}
