{
 "cells": [
  {
   "cell_type": "code",
   "execution_count": 13,
   "id": "514d9a11",
   "metadata": {},
   "outputs": [],
   "source": [
    "import numpy as np\n",
    "import matplotlib.pyplot as plt"
   ]
  },
  {
   "cell_type": "code",
   "execution_count": 14,
   "id": "d9a601e0",
   "metadata": {},
   "outputs": [],
   "source": [
    "xsn = np.random.randn(100)"
   ]
  },
  {
   "cell_type": "code",
   "execution_count": 15,
   "id": "a482049d",
   "metadata": {},
   "outputs": [
    {
     "data": {
      "text/plain": [
       "array([ 1.52271286, -0.16486549, -2.25592119,  0.43290312,  0.52264451,\n",
       "        0.10377435, -2.29139267,  0.21208736,  0.4890654 , -2.02765005,\n",
       "        1.58078321, -0.20457145,  1.10788478,  1.20617721, -0.86702036,\n",
       "       -1.35761724, -0.98725806, -0.31753618, -0.83651942, -0.11823624,\n",
       "        1.30514253, -0.75166271,  0.06030875,  0.41981947, -0.52302095,\n",
       "       -0.00443968, -0.32870513,  1.63212234,  0.12993171, -1.16165943,\n",
       "        1.49206242, -0.01567615,  0.10529079,  0.18061845,  0.04271758,\n",
       "        2.35536315, -0.30775273, -1.11962726,  0.92131374, -0.43663969,\n",
       "       -0.2841883 ,  0.58075451,  0.1127536 ,  0.04026874,  0.88699843,\n",
       "        0.97657006, -0.4852239 ,  0.01549211,  1.69386607,  0.14062271,\n",
       "       -0.48740609,  0.72742771,  0.10982715,  0.78755965, -0.61284031,\n",
       "       -0.70511612, -1.18959204, -0.51870841, -0.33104206,  0.20075472,\n",
       "       -0.42189565,  1.63594819, -1.46881192, -1.52359262,  1.24003267,\n",
       "       -1.2609255 , -0.52395281, -0.06404565,  1.19664624,  0.3491686 ,\n",
       "        0.4344315 , -0.60307857,  2.06962626, -0.43343662, -1.50435058,\n",
       "        0.84658318,  1.58447484,  0.39330454, -1.06814829,  1.32743069,\n",
       "       -0.94445039,  0.60593774,  0.37215169,  0.89508167, -0.73482368,\n",
       "        0.25727793, -0.19646485, -0.40849188, -0.6274357 , -0.8896951 ,\n",
       "        0.80181051, -0.40813224,  0.1147751 , -1.21833494, -0.05602099,\n",
       "       -0.37513367,  0.2562323 , -1.83263538, -0.49763805,  1.50997695])"
      ]
     },
     "execution_count": 15,
     "metadata": {},
     "output_type": "execute_result"
    }
   ],
   "source": [
    "xsn"
   ]
  },
  {
   "cell_type": "code",
   "execution_count": 28,
   "id": "236419f6",
   "metadata": {},
   "outputs": [],
   "source": [
    "sigma = 5\n",
    "u = 60\n",
    "X = xsn * sigma + u\n",
    "X2 = np.round(xsn * 15 + 40)"
   ]
  },
  {
   "cell_type": "code",
   "execution_count": 29,
   "id": "18629dda",
   "metadata": {},
   "outputs": [
    {
     "data": {
      "text/plain": [
       "array([67.61356431, 59.17567254, 48.72039407, 62.16451559, 62.61322256,\n",
       "       60.51887174, 48.54303663, 61.06043678, 62.44532698, 49.86174973,\n",
       "       67.90391605, 58.97714276, 65.53942391, 66.03088605, 55.6648982 ,\n",
       "       53.2119138 , 55.06370968, 58.41231909, 55.81740289, 59.4088188 ,\n",
       "       66.52571265, 56.24168643, 60.30154377, 62.09909735, 57.38489525,\n",
       "       59.97780161, 58.35647437, 68.16061171, 60.64965857, 54.19170286,\n",
       "       67.46031208, 59.92161927, 60.52645394, 60.90309224, 60.2135879 ,\n",
       "       71.77681576, 58.46123633, 54.4018637 , 64.60656868, 57.81680154,\n",
       "       58.57905849, 62.90377253, 60.56376802, 60.2013437 , 64.43499216,\n",
       "       64.88285029, 57.57388049, 60.07746055, 68.46933033, 60.70311354,\n",
       "       57.56296953, 63.63713854, 60.54913575, 63.93779823, 56.93579845,\n",
       "       56.47441938, 54.0520398 , 57.40645793, 58.34478969, 61.0037736 ,\n",
       "       57.89052177, 68.17974094, 52.65594039, 52.38203689, 66.20016335,\n",
       "       53.69537249, 57.38023597, 59.67977173, 65.98323122, 61.74584301,\n",
       "       62.17215749, 56.98460717, 70.34813128, 57.83281689, 52.47824712,\n",
       "       64.23291592, 67.92237418, 61.96652271, 54.65925856, 66.63715347,\n",
       "       55.27774806, 63.02968872, 61.86075846, 64.47540833, 56.3258816 ,\n",
       "       61.28638963, 59.01767577, 57.95754058, 56.86282151, 55.55152451,\n",
       "       64.00905255, 57.95933882, 60.5738755 , 53.90832531, 59.71989507,\n",
       "       58.12433163, 61.2811615 , 50.83682312, 57.51180976, 67.54988473])"
      ]
     },
     "execution_count": 29,
     "metadata": {},
     "output_type": "execute_result"
    }
   ],
   "source": [
    "X"
   ]
  },
  {
   "cell_type": "code",
   "execution_count": 30,
   "id": "4bcfac9b",
   "metadata": {},
   "outputs": [],
   "source": [
    "X = np.round(X)"
   ]
  },
  {
   "cell_type": "code",
   "execution_count": 31,
   "id": "97aef9c9",
   "metadata": {},
   "outputs": [
    {
     "data": {
      "text/plain": [
       "array([68., 59., 49., 62., 63., 61., 49., 61., 62., 50., 68., 59., 66.,\n",
       "       66., 56., 53., 55., 58., 56., 59., 67., 56., 60., 62., 57., 60.,\n",
       "       58., 68., 61., 54., 67., 60., 61., 61., 60., 72., 58., 54., 65.,\n",
       "       58., 59., 63., 61., 60., 64., 65., 58., 60., 68., 61., 58., 64.,\n",
       "       61., 64., 57., 56., 54., 57., 58., 61., 58., 68., 53., 52., 66.,\n",
       "       54., 57., 60., 66., 62., 62., 57., 70., 58., 52., 64., 68., 62.,\n",
       "       55., 67., 55., 63., 62., 64., 56., 61., 59., 58., 57., 56., 64.,\n",
       "       58., 61., 54., 60., 58., 61., 51., 58., 68.])"
      ]
     },
     "execution_count": 31,
     "metadata": {},
     "output_type": "execute_result"
    }
   ],
   "source": [
    "X"
   ]
  },
  {
   "cell_type": "code",
   "execution_count": 32,
   "id": "4c9bd678",
   "metadata": {},
   "outputs": [
    {
     "data": {
      "text/plain": [
       "(array([ 3.,  4.,  9., 17., 18., 22., 10.,  7.,  8.,  2.]),\n",
       " array([ 6. , 12.9, 19.8, 26.7, 33.6, 40.5, 47.4, 54.3, 61.2, 68.1, 75. ]),\n",
       " <BarContainer object of 10 artists>)"
      ]
     },
     "execution_count": 32,
     "metadata": {},
     "output_type": "execute_result"
    },
    {
     "data": {
      "image/png": "[encoded data removed]",
      "text/plain": [
       "<Figure size 576x396 with 1 Axes>"
      ]
     },
     "metadata": {},
     "output_type": "display_data"
    }
   ],
   "source": [
    "# Histogram\n",
    "plt.style.use( \"seaborn\")\n",
    "plt.hist(X, alpha = 0.8)\n",
    "plt.hist(X2)"
   ]
  },
  {
   "cell_type": "code",
   "execution_count": null,
   "id": "192de198",
   "metadata": {},
   "outputs": [],
   "source": []
  },
  {
   "cell_type": "code",
   "execution_count": null,
   "id": "9b7bfeb1",
   "metadata": {},
   "outputs": [],
   "source": []
  },
  {
   "cell_type": "code",
   "execution_count": null,
   "id": "2eb4bbd6",
   "metadata": {},
   "outputs": [],
   "source": []
  }
 ],
 "metadata": {
  "kernelspec": {
   "display_name": "Python 3 (ipykernel)",
   "language": "python",
   "name": "python3"
  },
  "language_info": {
   "codemirror_mode": {
    "name": "ipython",
    "version": 3
   },
   "file_extension": ".py",
   "mimetype": "text/x-python",
   "name": "python",
   "nbconvert_exporter": "python",
   "pygments_lexer": "ipython3",
   "version": "3.9.7"
  }
 },
 "nbformat": 4,
 "nbformat_minor": 5
}
