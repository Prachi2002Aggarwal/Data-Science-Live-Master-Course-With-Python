{
 "cells": [
  {
   "cell_type": "code",
   "execution_count": 2,
   "id": "5b5a040a",
   "metadata": {},
   "outputs": [],
   "source": [
    "import numpy as np\n",
    "import matplotlib.pyplot as plt\n",
    "import pandas as pd"
   ]
  },
  {
   "cell_type": "code",
   "execution_count": 11,
   "id": "7acc8056",
   "metadata": {},
   "outputs": [],
   "source": [
    "# Read a CSV File\n",
    "df = pd.read_csv(\"D:/Desktop/hi.txt\")"
   ]
  },
  {
   "cell_type": "code",
   "execution_count": 12,
   "id": "5d7b485a",
   "metadata": {},
   "outputs": [
    {
     "data": {
      "text/plain": [
       "Index(['city', 'theatre_name', 'average_ticket_price', 'total_seats',\n",
       "       'no_screens', 'type', 'theatre_chain', 'lat', 'lon', 'calculated_seats',\n",
       "       'calculated_ticket_prices', 'calculated_screens', 'average_2',\n",
       "       'source_of_information', 'notes'],\n",
       "      dtype='object')"
      ]
     },
     "execution_count": 12,
     "metadata": {},
     "output_type": "execute_result"
    }
   ],
   "source": [
    "df.columns"
   ]
  },
  {
   "cell_type": "code",
   "execution_count": 13,
   "id": "6472a5cf",
   "metadata": {},
   "outputs": [
    {
     "data": {
      "text/html": [
       "<div>\n",
       "<style scoped>\n",
       "    .dataframe tbody tr th:only-of-type {\n",
       "        vertical-align: middle;\n",
       "    }\n",
       "\n",
       "    .dataframe tbody tr th {\n",
       "        vertical-align: top;\n",
       "    }\n",
       "\n",
       "    .dataframe thead th {\n",
       "        text-align: right;\n",
       "    }\n",
       "</style>\n",
       "<table border=\"1\" class=\"dataframe\">\n",
       "  <thead>\n",
       "    <tr style=\"text-align: right;\">\n",
       "      <th></th>\n",
       "      <th>city</th>\n",
       "      <th>theatre_name</th>\n",
       "      <th>average_ticket_price</th>\n",
       "      <th>total_seats</th>\n",
       "      <th>no_screens</th>\n",
       "      <th>type</th>\n",
       "      <th>theatre_chain</th>\n",
       "      <th>lat</th>\n",
       "      <th>lon</th>\n",
       "      <th>calculated_seats</th>\n",
       "      <th>calculated_ticket_prices</th>\n",
       "      <th>calculated_screens</th>\n",
       "      <th>average_2</th>\n",
       "      <th>source_of_information</th>\n",
       "      <th>notes</th>\n",
       "    </tr>\n",
       "  </thead>\n",
       "  <tbody>\n",
       "    <tr>\n",
       "      <th>0</th>\n",
       "      <td>Ahmedabad</td>\n",
       "      <td>AB Miniplex: Shivranjini Cross Road, Satellite</td>\n",
       "      <td>125.619048</td>\n",
       "      <td>302</td>\n",
       "      <td>3</td>\n",
       "      <td>Multiplex</td>\n",
       "      <td>NaN</td>\n",
       "      <td>23.024940</td>\n",
       "      <td>72.529380</td>\n",
       "      <td>302.0</td>\n",
       "      <td>118.000000</td>\n",
       "      <td>3.0</td>\n",
       "      <td>124.000000</td>\n",
       "      <td>BookMyShow</td>\n",
       "      <td>NaN</td>\n",
       "    </tr>\n",
       "    <tr>\n",
       "      <th>1</th>\n",
       "      <td>Ahmedabad</td>\n",
       "      <td>Amber Cinema: Ahmedabad</td>\n",
       "      <td>100.833333</td>\n",
       "      <td>763</td>\n",
       "      <td>1</td>\n",
       "      <td>Single Screen</td>\n",
       "      <td>NaN</td>\n",
       "      <td>23.034310</td>\n",
       "      <td>72.620020</td>\n",
       "      <td>763.0</td>\n",
       "      <td>80.000000</td>\n",
       "      <td>1.0</td>\n",
       "      <td>98.750000</td>\n",
       "      <td>BookMyShow</td>\n",
       "      <td>NaN</td>\n",
       "    </tr>\n",
       "    <tr>\n",
       "      <th>2</th>\n",
       "      <td>Ahmedabad</td>\n",
       "      <td>Anupam Cinema: Ahmedabad</td>\n",
       "      <td>125.833333</td>\n",
       "      <td>781</td>\n",
       "      <td>1</td>\n",
       "      <td>Single Screen</td>\n",
       "      <td>NaN</td>\n",
       "      <td>23.006560</td>\n",
       "      <td>72.613330</td>\n",
       "      <td>781.0</td>\n",
       "      <td>80.000000</td>\n",
       "      <td>1.0</td>\n",
       "      <td>121.250000</td>\n",
       "      <td>BookMyShow</td>\n",
       "      <td>NaN</td>\n",
       "    </tr>\n",
       "    <tr>\n",
       "      <th>3</th>\n",
       "      <td>Ahmedabad</td>\n",
       "      <td>Apsara Cinema, Behrampura</td>\n",
       "      <td>NaN</td>\n",
       "      <td>1117</td>\n",
       "      <td>1</td>\n",
       "      <td>Single Screen</td>\n",
       "      <td>NaN</td>\n",
       "      <td>23.003974</td>\n",
       "      <td>72.597468</td>\n",
       "      <td>NaN</td>\n",
       "      <td>NaN</td>\n",
       "      <td>NaN</td>\n",
       "      <td>NaN</td>\n",
       "      <td>MediaAnt</td>\n",
       "      <td>NaN</td>\n",
       "    </tr>\n",
       "    <tr>\n",
       "      <th>4</th>\n",
       "      <td>Ahmedabad</td>\n",
       "      <td>Aradhana Cinema, Behrampura</td>\n",
       "      <td>NaN</td>\n",
       "      <td>455</td>\n",
       "      <td>1</td>\n",
       "      <td>Single Screen</td>\n",
       "      <td>NaN</td>\n",
       "      <td>23.003960</td>\n",
       "      <td>72.597520</td>\n",
       "      <td>NaN</td>\n",
       "      <td>NaN</td>\n",
       "      <td>NaN</td>\n",
       "      <td>NaN</td>\n",
       "      <td>MediaAnt</td>\n",
       "      <td>NaN</td>\n",
       "    </tr>\n",
       "    <tr>\n",
       "      <th>5</th>\n",
       "      <td>Ahmedabad</td>\n",
       "      <td>Carnival: Himalaya Mall</td>\n",
       "      <td>189.050926</td>\n",
       "      <td>1110</td>\n",
       "      <td>5</td>\n",
       "      <td>Multiplex</td>\n",
       "      <td>Carnival</td>\n",
       "      <td>23.047080</td>\n",
       "      <td>72.530930</td>\n",
       "      <td>1106.0</td>\n",
       "      <td>126.933333</td>\n",
       "      <td>5.0</td>\n",
       "      <td>178.116667</td>\n",
       "      <td>BookMyShow, MediaAnt</td>\n",
       "      <td>NaN</td>\n",
       "    </tr>\n",
       "    <tr>\n",
       "      <th>6</th>\n",
       "      <td>Ahmedabad</td>\n",
       "      <td>Cinemax: Dev Arc, Ahmedabad</td>\n",
       "      <td>176.435185</td>\n",
       "      <td>1047</td>\n",
       "      <td>4</td>\n",
       "      <td>Multiplex</td>\n",
       "      <td>PVR</td>\n",
       "      <td>23.025730</td>\n",
       "      <td>72.507760</td>\n",
       "      <td>1047.0</td>\n",
       "      <td>123.333333</td>\n",
       "      <td>4.0</td>\n",
       "      <td>173.580247</td>\n",
       "      <td>BookMyShow</td>\n",
       "      <td>NaN</td>\n",
       "    </tr>\n",
       "    <tr>\n",
       "      <th>7</th>\n",
       "      <td>Ahmedabad</td>\n",
       "      <td>Cinemax: Red Carpet, Ahmedabad</td>\n",
       "      <td>152.052469</td>\n",
       "      <td>991</td>\n",
       "      <td>4</td>\n",
       "      <td>Multiplex</td>\n",
       "      <td>PVR</td>\n",
       "      <td>23.079680</td>\n",
       "      <td>72.527700</td>\n",
       "      <td>991.0</td>\n",
       "      <td>107.500000</td>\n",
       "      <td>4.0</td>\n",
       "      <td>154.375000</td>\n",
       "      <td>BookMyShow</td>\n",
       "      <td>NaN</td>\n",
       "    </tr>\n",
       "    <tr>\n",
       "      <th>8</th>\n",
       "      <td>Ahmedabad</td>\n",
       "      <td>Cinemax: Shiv, Ahmedabad</td>\n",
       "      <td>176.277778</td>\n",
       "      <td>637</td>\n",
       "      <td>3</td>\n",
       "      <td>Multiplex</td>\n",
       "      <td>PVR</td>\n",
       "      <td>23.031880</td>\n",
       "      <td>72.571030</td>\n",
       "      <td>637.0</td>\n",
       "      <td>138.333333</td>\n",
       "      <td>3.0</td>\n",
       "      <td>172.812500</td>\n",
       "      <td>BookMyShow</td>\n",
       "      <td>https://en.wikipedia.org/wiki/CineMAX</td>\n",
       "    </tr>\n",
       "    <tr>\n",
       "      <th>9</th>\n",
       "      <td>Ahmedabad</td>\n",
       "      <td>Cinepolis: Alpha One Mall, Ahmedabad</td>\n",
       "      <td>197.949495</td>\n",
       "      <td>1136</td>\n",
       "      <td>6</td>\n",
       "      <td>Multiplex</td>\n",
       "      <td>Cinepolis</td>\n",
       "      <td>23.039520</td>\n",
       "      <td>72.531990</td>\n",
       "      <td>1219.0</td>\n",
       "      <td>140.000000</td>\n",
       "      <td>6.0</td>\n",
       "      <td>195.000000</td>\n",
       "      <td>BookMyShow, MediaAnt</td>\n",
       "      <td>NaN</td>\n",
       "    </tr>\n",
       "  </tbody>\n",
       "</table>\n",
       "</div>"
      ],
      "text/plain": [
       "        city                                    theatre_name  \\\n",
       "0  Ahmedabad  AB Miniplex: Shivranjini Cross Road, Satellite   \n",
       "1  Ahmedabad                         Amber Cinema: Ahmedabad   \n",
       "2  Ahmedabad                        Anupam Cinema: Ahmedabad   \n",
       "3  Ahmedabad                       Apsara Cinema, Behrampura   \n",
       "4  Ahmedabad                     Aradhana Cinema, Behrampura   \n",
       "5  Ahmedabad                         Carnival: Himalaya Mall   \n",
       "6  Ahmedabad                     Cinemax: Dev Arc, Ahmedabad   \n",
       "7  Ahmedabad                  Cinemax: Red Carpet, Ahmedabad   \n",
       "8  Ahmedabad                        Cinemax: Shiv, Ahmedabad   \n",
       "9  Ahmedabad            Cinepolis: Alpha One Mall, Ahmedabad   \n",
       "\n",
       "   average_ticket_price  total_seats  no_screens           type theatre_chain  \\\n",
       "0            125.619048          302           3      Multiplex           NaN   \n",
       "1            100.833333          763           1  Single Screen           NaN   \n",
       "2            125.833333          781           1  Single Screen           NaN   \n",
       "3                   NaN         1117           1  Single Screen           NaN   \n",
       "4                   NaN          455           1  Single Screen           NaN   \n",
       "5            189.050926         1110           5      Multiplex      Carnival   \n",
       "6            176.435185         1047           4      Multiplex           PVR   \n",
       "7            152.052469          991           4      Multiplex           PVR   \n",
       "8            176.277778          637           3      Multiplex           PVR   \n",
       "9            197.949495         1136           6      Multiplex     Cinepolis   \n",
       "\n",
       "         lat        lon  calculated_seats  calculated_ticket_prices  \\\n",
       "0  23.024940  72.529380             302.0                118.000000   \n",
       "1  23.034310  72.620020             763.0                 80.000000   \n",
       "2  23.006560  72.613330             781.0                 80.000000   \n",
       "3  23.003974  72.597468               NaN                       NaN   \n",
       "4  23.003960  72.597520               NaN                       NaN   \n",
       "5  23.047080  72.530930            1106.0                126.933333   \n",
       "6  23.025730  72.507760            1047.0                123.333333   \n",
       "7  23.079680  72.527700             991.0                107.500000   \n",
       "8  23.031880  72.571030             637.0                138.333333   \n",
       "9  23.039520  72.531990            1219.0                140.000000   \n",
       "\n",
       "   calculated_screens   average_2 source_of_information  \\\n",
       "0                 3.0  124.000000            BookMyShow   \n",
       "1                 1.0   98.750000            BookMyShow   \n",
       "2                 1.0  121.250000            BookMyShow   \n",
       "3                 NaN         NaN              MediaAnt   \n",
       "4                 NaN         NaN              MediaAnt   \n",
       "5                 5.0  178.116667  BookMyShow, MediaAnt   \n",
       "6                 4.0  173.580247            BookMyShow   \n",
       "7                 4.0  154.375000            BookMyShow   \n",
       "8                 3.0  172.812500            BookMyShow   \n",
       "9                 6.0  195.000000  BookMyShow, MediaAnt   \n",
       "\n",
       "                                   notes  \n",
       "0                                    NaN  \n",
       "1                                    NaN  \n",
       "2                                    NaN  \n",
       "3                                    NaN  \n",
       "4                                    NaN  \n",
       "5                                    NaN  \n",
       "6                                    NaN  \n",
       "7                                    NaN  \n",
       "8  https://en.wikipedia.org/wiki/CineMAX  \n",
       "9                                    NaN  "
      ]
     },
     "execution_count": 13,
     "metadata": {},
     "output_type": "execute_result"
    }
   ],
   "source": [
    "df.head(10)"
   ]
  },
  {
   "cell_type": "code",
   "execution_count": 16,
   "id": "c729d178",
   "metadata": {},
   "outputs": [],
   "source": [
    "names = list(df.get('theatre_name'))"
   ]
  },
  {
   "cell_type": "code",
   "execution_count": 18,
   "id": "4c0e3676",
   "metadata": {},
   "outputs": [
    {
     "name": "stdout",
     "output_type": "stream",
     "text": [
      "['AB Miniplex: Shivranjini Cross Road, Satellite', 'Amber Cinema: Ahmedabad', 'Anupam Cinema: Ahmedabad', 'Apsara Cinema, Behrampura', 'Aradhana Cinema, Behrampura']\n"
     ]
    }
   ],
   "source": [
    "print(names[:5])"
   ]
  },
  {
   "cell_type": "code",
   "execution_count": 22,
   "id": "ced78203",
   "metadata": {},
   "outputs": [],
   "source": [
    "freq_names = {}\n",
    "for name in names :\n",
    "    length = len(name)\n",
    "    \n",
    "    if freq_names.get(length) is None :\n",
    "       freq_names[length] = 1\n",
    "    else :\n",
    "       freq_names[length] += 1"
   ]
  },
  {
   "cell_type": "code",
   "execution_count": 23,
   "id": "c79a8220",
   "metadata": {},
   "outputs": [
    {
     "name": "stdout",
     "output_type": "stream",
     "text": [
      "{46: 2, 23: 29, 24: 28, 25: 32, 27: 31, 30: 26, 36: 18, 22: 31, 20: 16, 16: 4, 17: 9, 28: 41, 29: 32, 39: 15, 40: 10, 50: 4, 31: 31, 35: 15, 21: 20, 32: 16, 34: 24, 43: 5, 26: 27, 38: 10, 48: 3, 37: 15, 47: 2, 41: 7, 49: 1, 42: 5, 33: 21, 10: 3, 18: 17, 52: 1, 45: 2, 44: 4, 19: 8, 14: 5, 12: 2, 51: 1, 15: 3, 11: 1, 9: 1}\n"
     ]
    }
   ],
   "source": [
    "print(freq_names)"
   ]
  },
  {
   "cell_type": "code",
   "execution_count": 27,
   "id": "aceb55b1",
   "metadata": {},
   "outputs": [],
   "source": [
    "X = np.array(list(freq_names.keys()))\n",
    "Y = np.array(list(freq_names.values()))"
   ]
  },
  {
   "cell_type": "code",
   "execution_count": 28,
   "id": "3eaf4482",
   "metadata": {},
   "outputs": [
    {
     "name": "stdout",
     "output_type": "stream",
     "text": [
      "[46 23 24 25 27 30 36 22 20 16 17 28 29 39 40 50 31 35 21 32 34 43 26 38\n",
      " 48 37 47 41 49 42 33 10 18 52 45 44 19 14 12 51 15 11  9]\n"
     ]
    }
   ],
   "source": [
    "print(X)"
   ]
  },
  {
   "cell_type": "code",
   "execution_count": 29,
   "id": "27d0d7bd",
   "metadata": {},
   "outputs": [
    {
     "name": "stdout",
     "output_type": "stream",
     "text": [
      "[ 2 29 28 32 31 26 18 31 16  4  9 41 32 15 10  4 31 15 20 16 24  5 27 10\n",
      "  3 15  2  7  1  5 21  3 17  1  2  4  8  5  2  1  3  1  1]\n"
     ]
    }
   ],
   "source": [
    "print(Y)"
   ]
  },
  {
   "cell_type": "code",
   "execution_count": 33,
   "id": "9470e633",
   "metadata": {},
   "outputs": [
    {
     "data": {
      "image/png": "[encoded data removed]",
      "text/plain": [
       "<Figure size 576x396 with 1 Axes>"
      ]
     },
     "metadata": {},
     "output_type": "display_data"
    }
   ],
   "source": [
    "plt.style.use('seaborn')\n",
    "plt.scatter(X,Y)\n",
    "plt.xlabel(\"Length of Threatre Names\")\n",
    "plt.ylabel(\"Number of threaters\")\n",
    "plt.title(\"Threatre Data Visualization\")\n",
    "plt.show()"
   ]
  },
  {
   "cell_type": "code",
   "execution_count": null,
   "id": "8c5de825",
   "metadata": {},
   "outputs": [],
   "source": []
  }
 ],
 "metadata": {
  "kernelspec": {
   "display_name": "Python 3 (ipykernel)",
   "language": "python",
   "name": "python3"
  },
  "language_info": {
   "codemirror_mode": {
    "name": "ipython",
    "version": 3
   },
   "file_extension": ".py",
   "mimetype": "text/x-python",
   "name": "python",
   "nbconvert_exporter": "python",
   "pygments_lexer": "ipython3",
   "version": "3.9.7"
  }
 },
 "nbformat": 4,
 "nbformat_minor": 5
}
