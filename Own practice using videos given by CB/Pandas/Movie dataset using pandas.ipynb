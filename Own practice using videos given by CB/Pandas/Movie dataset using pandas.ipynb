{
 "cells": [
  {
   "cell_type": "code",
   "execution_count": 2,
   "id": "cb354dc3",
   "metadata": {},
   "outputs": [],
   "source": [
    "import numpy as np\n",
    "import pandas as pd\n",
    "import matplotlib.pyplot as plt"
   ]
  },
  {
   "cell_type": "code",
   "execution_count": 3,
   "id": "8582ec1d",
   "metadata": {},
   "outputs": [],
   "source": [
    "df = pd.read_csv(\"czechNewWave.csv\")"
   ]
  },
  {
   "cell_type": "code",
   "execution_count": 16,
   "id": "a474d271",
   "metadata": {},
   "outputs": [],
   "source": [
    "df = df[:35]"
   ]
  },
  {
   "cell_type": "code",
   "execution_count": 17,
   "id": "482131fa",
   "metadata": {},
   "outputs": [
    {
     "data": {
      "text/plain": [
       "(35, 4)"
      ]
     },
     "execution_count": 17,
     "metadata": {},
     "output_type": "execute_result"
    }
   ],
   "source": [
    "df.shape"
   ]
  },
  {
   "cell_type": "code",
   "execution_count": 18,
   "id": "6fb5a273",
   "metadata": {},
   "outputs": [
    {
     "data": {
      "text/html": [
       "<div>\n",
       "<style scoped>\n",
       "    .dataframe tbody tr th:only-of-type {\n",
       "        vertical-align: middle;\n",
       "    }\n",
       "\n",
       "    .dataframe tbody tr th {\n",
       "        vertical-align: top;\n",
       "    }\n",
       "\n",
       "    .dataframe thead th {\n",
       "        text-align: right;\n",
       "    }\n",
       "</style>\n",
       "<table border=\"1\" class=\"dataframe\">\n",
       "  <thead>\n",
       "    <tr style=\"text-align: right;\">\n",
       "      <th></th>\n",
       "      <th>Title</th>\n",
       "      <th>aka</th>\n",
       "      <th>Year</th>\n",
       "      <th>Director</th>\n",
       "    </tr>\n",
       "  </thead>\n",
       "  <tbody>\n",
       "    <tr>\n",
       "      <th>30</th>\n",
       "      <td>Loves of a Blonde</td>\n",
       "      <td>NaN</td>\n",
       "      <td>1965.0</td>\n",
       "      <td>Miloš Forman</td>\n",
       "    </tr>\n",
       "    <tr>\n",
       "      <th>31</th>\n",
       "      <td>The Firemen's Ball</td>\n",
       "      <td>NaN</td>\n",
       "      <td>1968.0</td>\n",
       "      <td>Miloš Forman</td>\n",
       "    </tr>\n",
       "    <tr>\n",
       "      <th>32</th>\n",
       "      <td>Joseph Kilian</td>\n",
       "      <td>NaN</td>\n",
       "      <td>1963.0</td>\n",
       "      <td>Pavel Jurácek</td>\n",
       "    </tr>\n",
       "    <tr>\n",
       "      <th>33</th>\n",
       "      <td>The Cremator</td>\n",
       "      <td>NaN</td>\n",
       "      <td>1968.0</td>\n",
       "      <td>Spalovač mrtvol</td>\n",
       "    </tr>\n",
       "    <tr>\n",
       "      <th>34</th>\n",
       "      <td>The Sun in a Net</td>\n",
       "      <td>NaN</td>\n",
       "      <td>1962.0</td>\n",
       "      <td>Štefan Uher</td>\n",
       "    </tr>\n",
       "  </tbody>\n",
       "</table>\n",
       "</div>"
      ],
      "text/plain": [
       "                 Title  aka    Year         Director\n",
       "30   Loves of a Blonde  NaN  1965.0     Miloš Forman\n",
       "31  The Firemen's Ball  NaN  1968.0     Miloš Forman\n",
       "32       Joseph Kilian  NaN  1963.0    Pavel Jurácek\n",
       "33        The Cremator  NaN  1968.0  Spalovač mrtvol\n",
       "34    The Sun in a Net  NaN  1962.0      Štefan Uher"
      ]
     },
     "execution_count": 18,
     "metadata": {},
     "output_type": "execute_result"
    }
   ],
   "source": [
    "df.tail()"
   ]
  },
  {
   "cell_type": "code",
   "execution_count": 19,
   "id": "d009fba4",
   "metadata": {},
   "outputs": [
    {
     "data": {
      "text/plain": [
       "Index(['Title', 'aka', 'Year', 'Director'], dtype='object')"
      ]
     },
     "execution_count": 19,
     "metadata": {},
     "output_type": "execute_result"
    }
   ],
   "source": [
    "df.columns"
   ]
  },
  {
   "cell_type": "code",
   "execution_count": 20,
   "id": "3f2a8883",
   "metadata": {},
   "outputs": [],
   "source": [
    "titles = list(df.get('Title'))"
   ]
  },
  {
   "cell_type": "code",
   "execution_count": 21,
   "id": "2982ae1b",
   "metadata": {},
   "outputs": [
    {
     "data": {
      "text/plain": [
       "['A Prayer for Katerina Horovitzova',\n",
       " 'The Gala in the Botanical Garden\\n',\n",
       " 'Courage for Every Day',\n",
       " 'The End of a Priest',\n",
       " 'The White Dove',\n",
       " \"The Devil's Trap\",\n",
       " 'Marketa Lazarová',\n",
       " 'Valley of the Bees',\n",
       " 'Adelheid',\n",
       " 'Intimate Lighting',\n",
       " 'The Shop on Main Street',\n",
       " 'Diamonds of the Night',\n",
       " 'The Party and the Guests',\n",
       " 'The Cry',\n",
       " 'The Joke\\n',\n",
       " 'Valerie and Her Week of Wonders',\n",
       " 'Behold Homolka',\n",
       " 'Capricious Summer',\n",
       " 'Larks on a String',\n",
       " 'Closely Watched Trains',\n",
       " 'Pearls of the Deep',\n",
       " 'The Hand',\n",
       " 'Crucial Years',\n",
       " 'Deserters and Pilgrims (aka The Deserter and the Nomads)',\n",
       " 'Birds, Orphans and Fools',\n",
       " 'Long Live the Republic',\n",
       " 'Coach to Vienna',\n",
       " 'The Ear',\n",
       " 'The Fabulous Baron Munchausen',\n",
       " 'Black Peter',\n",
       " 'Loves of a Blonde',\n",
       " \"The Firemen's Ball\",\n",
       " 'Joseph Kilian',\n",
       " 'The Cremator',\n",
       " 'The Sun in a Net']"
      ]
     },
     "execution_count": 21,
     "metadata": {},
     "output_type": "execute_result"
    }
   ],
   "source": [
    "titles"
   ]
  },
  {
   "cell_type": "code",
   "execution_count": 24,
   "id": "5b0835fb",
   "metadata": {},
   "outputs": [
    {
     "name": "stdout",
     "output_type": "stream",
     "text": [
      "{33: 2, 21: 2, 19: 1, 14: 2, 16: 3, 18: 3, 8: 2, 17: 4, 23: 1, 24: 2, 7: 2, 9: 1, 31: 1, 22: 2, 13: 2, 56: 1, 15: 1, 29: 1, 11: 1, 12: 1}\n"
     ]
    }
   ],
   "source": [
    "freq_title = {}\n",
    "for t in titles :\n",
    "    length = len(t)\n",
    "    try :\n",
    "        freq_title[length] += 1\n",
    "    except :\n",
    "        freq_title[length] = 1\n",
    "        \n",
    "print(freq_title)    "
   ]
  },
  {
   "cell_type": "code",
   "execution_count": 26,
   "id": "e157466d",
   "metadata": {},
   "outputs": [],
   "source": [
    "X = np.array(list(freq_title.keys()))"
   ]
  },
  {
   "cell_type": "code",
   "execution_count": 27,
   "id": "ca3774b3",
   "metadata": {},
   "outputs": [
    {
     "data": {
      "text/plain": [
       "array([33, 21, 19, 14, 16, 18,  8, 17, 23, 24,  7,  9, 31, 22, 13, 56, 15,\n",
       "       29, 11, 12])"
      ]
     },
     "execution_count": 27,
     "metadata": {},
     "output_type": "execute_result"
    }
   ],
   "source": [
    "X"
   ]
  },
  {
   "cell_type": "code",
   "execution_count": 28,
   "id": "5facd439",
   "metadata": {},
   "outputs": [],
   "source": [
    "Y = np.array(list(freq_title.values()))"
   ]
  },
  {
   "cell_type": "code",
   "execution_count": 29,
   "id": "bc8553af",
   "metadata": {},
   "outputs": [
    {
     "data": {
      "text/plain": [
       "array([2, 2, 1, 2, 3, 3, 2, 4, 1, 2, 2, 1, 1, 2, 2, 1, 1, 1, 1, 1])"
      ]
     },
     "execution_count": 29,
     "metadata": {},
     "output_type": "execute_result"
    }
   ],
   "source": [
    "Y"
   ]
  },
  {
   "cell_type": "code",
   "execution_count": 30,
   "id": "8b6d3e70",
   "metadata": {},
   "outputs": [
    {
     "data": {
      "image/png": "[encoded data removed]",
      "text/plain": [
       "<Figure size 432x288 with 1 Axes>"
      ]
     },
     "metadata": {
      "needs_background": "light"
     },
     "output_type": "display_data"
    }
   ],
   "source": [
    "plt.scatter(X,Y)\n",
    "plt.show()"
   ]
  },
  {
   "cell_type": "code",
   "execution_count": null,
   "id": "f46e91ce",
   "metadata": {},
   "outputs": [],
   "source": []
  }
 ],
 "metadata": {
  "kernelspec": {
   "display_name": "Python 3 (ipykernel)",
   "language": "python",
   "name": "python3"
  },
  "language_info": {
   "codemirror_mode": {
    "name": "ipython",
    "version": 3
   },
   "file_extension": ".py",
   "mimetype": "text/x-python",
   "name": "python",
   "nbconvert_exporter": "python",
   "pygments_lexer": "ipython3",
   "version": "3.9.7"
  }
 },
 "nbformat": 4,
 "nbformat_minor": 5
}
