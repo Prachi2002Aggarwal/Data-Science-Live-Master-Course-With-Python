{
 "cells": [
  {
   "cell_type": "code",
   "execution_count": 5,
   "id": "925823fe",
   "metadata": {},
   "outputs": [],
   "source": [
    "import numpy as np"
   ]
  },
  {
   "cell_type": "code",
   "execution_count": 6,
   "id": "c07acf11",
   "metadata": {},
   "outputs": [
    {
     "name": "stdout",
     "output_type": "stream",
     "text": [
      "[4 5 6]\n",
      "(3,)\n"
     ]
    }
   ],
   "source": [
    "# Scalar and Vector\n",
    "x = np.array([4 , 5, 6])\n",
    "print(x)\n",
    "print(x.shape)"
   ]
  },
  {
   "cell_type": "code",
   "execution_count": 7,
   "id": "3ac27d3c",
   "metadata": {},
   "outputs": [
    {
     "name": "stdout",
     "output_type": "stream",
     "text": [
      "[[4]\n",
      " [5]\n",
      " [6]]\n",
      "(3, 1)\n"
     ]
    }
   ],
   "source": [
    "y = np.array([[4] , [5], [6]])\n",
    "print(y)\n",
    "print(y.shape)"
   ]
  },
  {
   "cell_type": "code",
   "execution_count": 11,
   "id": "97d1e52d",
   "metadata": {},
   "outputs": [
    {
     "name": "stdout",
     "output_type": "stream",
     "text": [
      "(3, 4)\n"
     ]
    }
   ],
   "source": [
    "X = np.array([[4,5,7,2],\n",
    "             [10,11,13,9],\n",
    "             [56,80,90 , 10]])\n",
    "print(X.shape)"
   ]
  },
  {
   "cell_type": "code",
   "execution_count": 15,
   "id": "4fc124c4",
   "metadata": {},
   "outputs": [
    {
     "name": "stdout",
     "output_type": "stream",
     "text": [
      "(6, 2)\n",
      "[[ 4  5]\n",
      " [ 7  2]\n",
      " [10 11]\n",
      " [13  9]\n",
      " [56 80]\n",
      " [90 10]]\n"
     ]
    }
   ],
   "source": [
    "X = X.reshape((-1,2))\n",
    "print(X.shape)\n",
    "print(X)"
   ]
  },
  {
   "cell_type": "code",
   "execution_count": 21,
   "id": "b8ff2fe6",
   "metadata": {},
   "outputs": [
    {
     "name": "stdout",
     "output_type": "stream",
     "text": [
      "[[[1 1 1]\n",
      "  [1 1 1]\n",
      "  [1 1 1]\n",
      "  [1 1 1]\n",
      "  [1 1 1]]\n",
      "\n",
      " [[1 1 1]\n",
      "  [1 1 1]\n",
      "  [1 1 1]\n",
      "  [1 1 1]\n",
      "  [1 1 1]]\n",
      "\n",
      " [[1 1 1]\n",
      "  [1 1 1]\n",
      "  [1 1 1]\n",
      "  [1 1 1]\n",
      "  [1 1 1]]\n",
      "\n",
      " [[1 1 1]\n",
      "  [1 1 1]\n",
      "  [1 1 1]\n",
      "  [1 1 1]\n",
      "  [1 1 1]]\n",
      "\n",
      " [[1 1 1]\n",
      "  [1 1 1]\n",
      "  [1 1 1]\n",
      "  [1 1 1]\n",
      "  [1 1 1]]]\n"
     ]
    }
   ],
   "source": [
    "T = np.ones((5,5,3) , dtype = 'int32')\n",
    "print(T)"
   ]
  },
  {
   "cell_type": "code",
   "execution_count": 27,
   "id": "94b6c17c",
   "metadata": {},
   "outputs": [],
   "source": [
    "T[:,:,0] = 255\n",
    "T[:,:,1] = 130\n",
    "T[:,:,2] = 255"
   ]
  },
  {
   "cell_type": "code",
   "execution_count": 28,
   "id": "1a219b47",
   "metadata": {},
   "outputs": [
    {
     "data": {
      "image/png": "[encoded data removed]",
      "text/plain": [
       "<Figure size 432x288 with 1 Axes>"
      ]
     },
     "metadata": {
      "needs_background": "light"
     },
     "output_type": "display_data"
    }
   ],
   "source": [
    "import matplotlib.pyplot as plt\n",
    "plt.imshow(T)\n",
    "plt.show()"
   ]
  },
  {
   "cell_type": "code",
   "execution_count": 31,
   "id": "cab69b59",
   "metadata": {},
   "outputs": [
    {
     "name": "stdout",
     "output_type": "stream",
     "text": [
      "[[ 4 10 56]\n",
      " [ 5 11 80]\n",
      " [ 7 13 90]\n",
      " [ 2  9 10]]\n"
     ]
    }
   ],
   "source": [
    "# Transpose\n",
    "X = np.array([[4,5,7,2],\n",
    "             [10,11,13,9],\n",
    "             [56,80,90 , 10]])\n",
    "X = X.T\n",
    "print(X)"
   ]
  },
  {
   "cell_type": "code",
   "execution_count": 47,
   "id": "02925ba6",
   "metadata": {},
   "outputs": [
    {
     "name": "stdout",
     "output_type": "stream",
     "text": [
      "(50, 25, 3)\n",
      "(50, 3, 25)\n",
      "(3,)\n",
      "(25,)\n"
     ]
    }
   ],
   "source": [
    "# Transpose of a Tensor\n",
    "T = np.zeros((50,25,3) , dtype = 'uint8')\n",
    "print(T.shape)\n",
    "\n",
    "T1 = np.transpose(T , axes = (0,2,1))\n",
    "print(T1.shape)\n",
    "\n",
    "print(T[0][0].shape)\n",
    "print(T1[0][0].shape)"
   ]
  },
  {
   "cell_type": "code",
   "execution_count": 46,
   "id": "966410de",
   "metadata": {},
   "outputs": [
    {
     "name": "stdout",
     "output_type": "stream",
     "text": [
      "(3, 25, 50)\n"
     ]
    }
   ],
   "source": [
    "T1 = np.transpose(T)\n",
    "print(T1.shape)"
   ]
  },
  {
   "cell_type": "code",
   "execution_count": null,
   "id": "0c3af5de",
   "metadata": {},
   "outputs": [],
   "source": []
  }
 ],
 "metadata": {
  "kernelspec": {
   "display_name": "Python 3 (ipykernel)",
   "language": "python",
   "name": "python3"
  },
  "language_info": {
   "codemirror_mode": {
    "name": "ipython",
    "version": 3
   },
   "file_extension": ".py",
   "mimetype": "text/x-python",
   "name": "python",
   "nbconvert_exporter": "python",
   "pygments_lexer": "ipython3",
   "version": "3.9.7"
  }
 },
 "nbformat": 4,
 "nbformat_minor": 5
}
