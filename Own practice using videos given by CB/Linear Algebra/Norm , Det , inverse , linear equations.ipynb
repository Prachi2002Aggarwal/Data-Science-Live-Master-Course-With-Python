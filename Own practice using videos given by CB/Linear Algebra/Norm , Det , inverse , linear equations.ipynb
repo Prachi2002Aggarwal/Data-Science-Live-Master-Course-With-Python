{
 "cells": [
  {
   "cell_type": "code",
   "execution_count": 1,
   "id": "1bbfbc16",
   "metadata": {},
   "outputs": [],
   "source": [
    "import numpy as np"
   ]
  },
  {
   "cell_type": "code",
   "execution_count": 8,
   "id": "62e538dc",
   "metadata": {},
   "outputs": [
    {
     "name": "stdout",
     "output_type": "stream",
     "text": [
      "5.0\n",
      "7.0\n",
      "4.497941445275415\n",
      "4.0\n"
     ]
    }
   ],
   "source": [
    "x = np.array([3,4])\n",
    "\n",
    "lp2 = np.linalg.norm(x)\n",
    "print(lp2)\n",
    "\n",
    "lp1 = np.linalg.norm(x,ord = 1)\n",
    "print(lp1)\n",
    "\n",
    "lp3 = np.linalg.norm(x,ord = 3)\n",
    "print(lp3)\n",
    "\n",
    "lpinf = np.linalg.norm(x,ord = np.inf)\n",
    "print(lpinf)\n",
    "# here big vale"
   ]
  },
  {
   "cell_type": "code",
   "execution_count": 10,
   "id": "64d88251",
   "metadata": {},
   "outputs": [
    {
     "data": {
      "text/plain": [
       "-2.0000000000000004"
      ]
     },
     "execution_count": 10,
     "metadata": {},
     "output_type": "execute_result"
    }
   ],
   "source": [
    "# Determinant\n",
    "A = np.array([[1,2],[3,4]])\n",
    "np.linalg.det(A)"
   ]
  },
  {
   "cell_type": "code",
   "execution_count": 14,
   "id": "1c195afa",
   "metadata": {},
   "outputs": [
    {
     "name": "stdout",
     "output_type": "stream",
     "text": [
      "[[1.00000000e+00 1.11022302e-16]\n",
      " [0.00000000e+00 1.00000000e+00]]\n"
     ]
    }
   ],
   "source": [
    "# Inverse\n",
    "Ainv = np.linalg.inv(A)\n",
    "print(np.dot(A,Ainv))"
   ]
  },
  {
   "cell_type": "code",
   "execution_count": 18,
   "id": "b43a4d4d",
   "metadata": {},
   "outputs": [
    {
     "name": "stdout",
     "output_type": "stream",
     "text": [
      "[[0.048 0.024]\n",
      " [0.064 0.032]]\n",
      "[[0.8 0.4]\n",
      " [0.4 0.2]]\n"
     ]
    }
   ],
   "source": [
    "# Whene determinant is 0 so that matrix cant be inverted\n",
    "# sudo inverse\n",
    "A = np.array([[6,8],[3,4]])\n",
    "pinv = np.linalg.pinv(A)\n",
    "print(pinv)\n",
    "print(np.dot(A,pinv))"
   ]
  },
  {
   "cell_type": "code",
   "execution_count": 20,
   "id": "22d18a86",
   "metadata": {},
   "outputs": [],
   "source": [
    "# Solve a system of Linear Equations\n",
    "a = np.array([[2,3],[3,1]])\n",
    "b = np.array([8,5])"
   ]
  },
  {
   "cell_type": "code",
   "execution_count": 21,
   "id": "550128ea",
   "metadata": {},
   "outputs": [
    {
     "data": {
      "text/plain": [
       "array([1., 2.])"
      ]
     },
     "execution_count": 21,
     "metadata": {},
     "output_type": "execute_result"
    }
   ],
   "source": [
    "np.linalg.solve(a,b)"
   ]
  },
  {
   "cell_type": "code",
   "execution_count": null,
   "id": "1c12d2ce",
   "metadata": {},
   "outputs": [],
   "source": []
  }
 ],
 "metadata": {
  "kernelspec": {
   "display_name": "Python 3 (ipykernel)",
   "language": "python",
   "name": "python3"
  },
  "language_info": {
   "codemirror_mode": {
    "name": "ipython",
    "version": 3
   },
   "file_extension": ".py",
   "mimetype": "text/x-python",
   "name": "python",
   "nbconvert_exporter": "python",
   "pygments_lexer": "ipython3",
   "version": "3.9.7"
  }
 },
 "nbformat": 4,
 "nbformat_minor": 5
}
