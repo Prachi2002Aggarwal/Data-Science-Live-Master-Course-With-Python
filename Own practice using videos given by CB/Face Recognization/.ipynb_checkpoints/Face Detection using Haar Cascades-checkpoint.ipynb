{
 "cells": [
  {
   "cell_type": "code",
   "execution_count": null,
   "id": "2acc4424",
   "metadata": {},
   "outputs": [],
   "source": [
    "# Copy in Pycharm and work on it then only "
   ]
  },
  {
   "cell_type": "code",
   "execution_count": 1,
   "id": "5a2026a9",
   "metadata": {},
   "outputs": [],
   "source": [
    "# We will use HarCascade Classifier\n",
    "# To classify a given object is face or not --\n",
    "# It looks for some special kind of features if they are present in a face or not\n"
   ]
  },
  {
   "cell_type": "code",
   "execution_count": null,
   "id": "0e1f4bb6",
   "metadata": {},
   "outputs": [],
   "source": [
    "# Read a Video Stream from Cmaera (Frame by Frame)\n",
    "import cv2\n",
    "\n",
    "cap = cv2.VideoCapture(0)\n",
    "# make aobject which works on facial data\n",
    "# haarcascade_frontalface_alt.xml is a facial data\n",
    "face_cascade = cv2.CascadeClassifier(\"haarcascade_frontalface_alt.xml\")\n",
    "\n",
    "while True :\n",
    "    ret , frame = cap.read()\n",
    "    gray_frame = cv2.cvtColor(frame , cv2.COLOR_BGR2GRAY)\n",
    "\n",
    "    if ret == False :\n",
    "        continue\n",
    "\n",
    "    # i will give this image to my model\n",
    "    # scaleFactor = 1.3 - Parameter specifying how much the iamge size is reduced at each iamge scale\n",
    "    #                     Basically the scale factor is used to create your scale pyramid\n",
    "    #                     1.3 is a good possible value for this , which means you use a small step for resizing , i.e. reduce size\n",
    "    # minNeighbors = 5 - Parameter specifying how many neighbours each candidate rectangle should have to retain it\n",
    "    #                    This para will affect the quality of the detected faces. Higher value results in less detections\n",
    "    faces = face_cascade.detectMultiScale(gray_frame ,1.3 , 5)\n",
    "    # this will return starting of face that is X , y and width and height of image\n",
    "    # return tupple of 4 things if faces are multiple\n",
    "\n",
    "\n",
    "    for(x,y,w,h) in faces:\n",
    "        cv2.rectangle(frame , (x,y) ,(x+w,y+h) ,(255 , 0 , 0) , 2)\n",
    "\n",
    "    cv2.imshow(\"Video Frame\", frame)\n",
    "    \n",
    "    key_pressed = cv2.waitKey(1) & 0xFF\n",
    "    if key_pressed == ord('q') :\n",
    "        break\n",
    "\n",
    "cap.release()\n",
    "cv2.destroyAllWindows()"
   ]
  },
  {
   "cell_type": "code",
   "execution_count": null,
   "id": "d61463b7",
   "metadata": {},
   "outputs": [],
   "source": []
  }
 ],
 "metadata": {
  "kernelspec": {
   "display_name": "Python 3 (ipykernel)",
   "language": "python",
   "name": "python3"
  },
  "language_info": {
   "codemirror_mode": {
    "name": "ipython",
    "version": 3
   },
   "file_extension": ".py",
   "mimetype": "text/x-python",
   "name": "python",
   "nbconvert_exporter": "python",
   "pygments_lexer": "ipython3",
   "version": "3.9.7"
  }
 },
 "nbformat": 4,
 "nbformat_minor": 5
}
