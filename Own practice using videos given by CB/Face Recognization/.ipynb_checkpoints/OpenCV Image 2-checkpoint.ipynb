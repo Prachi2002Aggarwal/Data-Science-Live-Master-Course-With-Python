{
 "cells": [
  {
   "cell_type": "code",
   "execution_count": null,
   "id": "b4bcc7de",
   "metadata": {},
   "outputs": [],
   "source": []
  },
  {
   "cell_type": "code",
   "execution_count": 2,
   "id": "83241254",
   "metadata": {},
   "outputs": [],
   "source": [
    "import cv2\n",
    "img = cv2.imread('C:\\\\Users\\\\prach\\\\Documents\\\\GitHub\\\\Data-Science-Live-Master-Course-With-Python\\\\Own practice using videos given by CB\\\\Face Recognization\\\\download1.jpeg')\n",
    "cv2.imshow('Dog Image' , img)\n",
    "\n",
    "# here 0 means wait for inifinite times\n",
    "# 25 - wait for 25 mili second\n",
    "cv2.waitKey(2500)\n",
    "cv2.destroyAllWindows()"
   ]
  },
  {
   "cell_type": "code",
   "execution_count": 3,
   "id": "000bd0a4",
   "metadata": {},
   "outputs": [],
   "source": []
  },
  {
   "cell_type": "code",
   "execution_count": 4,
   "id": "e250ec93",
   "metadata": {},
   "outputs": [],
   "source": []
  },
  {
   "cell_type": "code",
   "execution_count": null,
   "id": "46f26c68",
   "metadata": {},
   "outputs": [],
   "source": []
  }
 ],
 "metadata": {
  "kernelspec": {
   "display_name": "Python 3 (ipykernel)",
   "language": "python",
   "name": "python3"
  },
  "language_info": {
   "codemirror_mode": {
    "name": "ipython",
    "version": 3
   },
   "file_extension": ".py",
   "mimetype": "text/x-python",
   "name": "python",
   "nbconvert_exporter": "python",
   "pygments_lexer": "ipython3",
   "version": "3.9.7"
  }
 },
 "nbformat": 4,
 "nbformat_minor": 5
}
