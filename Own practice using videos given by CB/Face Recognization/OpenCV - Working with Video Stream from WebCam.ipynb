{
 "cells": [
  {
   "cell_type": "code",
   "execution_count": 1,
   "id": "66278ecd",
   "metadata": {},
   "outputs": [],
   "source": [
    "# read a Video Stream from Camera ( Frame by Frame)"
   ]
  },
  {
   "cell_type": "code",
   "execution_count": 3,
   "id": "c382bb2b",
   "metadata": {},
   "outputs": [
    {
     "name": "stdout",
     "output_type": "stream",
     "text": [
      "113\n"
     ]
    }
   ],
   "source": [
    "print(ord('q'))"
   ]
  },
  {
   "cell_type": "code",
   "execution_count": null,
   "id": "ec4deea9",
   "metadata": {},
   "outputs": [],
   "source": [
    "# Paste in .py file and run"
   ]
  },
  {
   "cell_type": "code",
   "execution_count": null,
   "id": "a596dc52",
   "metadata": {},
   "outputs": [],
   "source": [
    "# Read a Video Stream from Cmaera (Frame by Frame)\n",
    "# Video has many images we are taking them frame bu frame\n",
    "import cv2\n",
    "from cv2 import VideoCapture\n",
    "\n",
    "# here 0 means our default camera\n",
    "cap = cv2.Videocapture(0)\n",
    "\n",
    "while True :\n",
    "    # red is booleen value and frame is what we have captured\n",
    "    ret , frame = cap.read()\n",
    "    gray_frame = cv2.cvtColor(frame , cv2.COLOR_BGR2GRAY)\n",
    "    # if ret is false that means image is not captured properly\n",
    "    # frame is just an image\n",
    "\n",
    "    if ret == False :\n",
    "        continue\n",
    "\n",
    "    # want to display the frame\n",
    "    cv2.imshow(\"Video Frame\" , frame)\n",
    "    cv2.imshow(\"Gray Frame\", gray_frame)\n",
    "\n",
    "    # Wait for user input -q , then you will stop the loop\n",
    "    # wait for 1 mili second in every iteration\n",
    "    # cv2.waitKey(1) gives a 32 bit integer\n",
    "    # 0xFF is a number which has 11111111\n",
    "    key_pressed = cv2.waitKey(1) & 0xFF   # in this we will get last 8 bits\n",
    "    # ord tells the ascii value of that character\n",
    "    if key_pressed == ord('q') :\n",
    "        break # break in loop\n",
    "\n",
    "cap.release()\n",
    "cv2.destroyAllWindows()"
   ]
  }
 ],
 "metadata": {
  "kernelspec": {
   "display_name": "Python 3 (ipykernel)",
   "language": "python",
   "name": "python3"
  },
  "language_info": {
   "codemirror_mode": {
    "name": "ipython",
    "version": 3
   },
   "file_extension": ".py",
   "mimetype": "text/x-python",
   "name": "python",
   "nbconvert_exporter": "python",
   "pygments_lexer": "ipython3",
   "version": "3.9.7"
  }
 },
 "nbformat": 4,
 "nbformat_minor": 5
}
