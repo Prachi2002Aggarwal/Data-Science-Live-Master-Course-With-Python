{
 "cells": [
  {
   "cell_type": "code",
   "execution_count": 1,
   "id": "5731ed9c",
   "metadata": {},
   "outputs": [],
   "source": [
    "# SVM stands for Support Vector Machine\n",
    "# Supervised Learning Algo\n",
    "# We can use in both classification and Regression\n",
    "# Perform both Linear and Non Linear data"
   ]
  },
  {
   "cell_type": "code",
   "execution_count": null,
   "id": "7f29ba82",
   "metadata": {},
   "outputs": [],
   "source": [
    "# Importing Libraries\n",
    "from sklearn.datasets import load_iris\n",
    "import numpy as np\n",
    "import matplotlib.pyplot as plt\n",
    "from sklearn.preprocessing import StandardS"
   ]
  }
 ],
 "metadata": {
  "kernelspec": {
   "display_name": "Python 3 (ipykernel)",
   "language": "python",
   "name": "python3"
  },
  "language_info": {
   "codemirror_mode": {
    "name": "ipython",
    "version": 3
   },
   "file_extension": ".py",
   "mimetype": "text/x-python",
   "name": "python",
   "nbconvert_exporter": "python",
   "pygments_lexer": "ipython3",
   "version": "3.9.7"
  }
 },
 "nbformat": 4,
 "nbformat_minor": 5
}
