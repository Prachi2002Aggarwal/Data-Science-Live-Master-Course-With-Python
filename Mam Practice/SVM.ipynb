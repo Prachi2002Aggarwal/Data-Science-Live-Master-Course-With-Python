{
 "cells": [
  {
   "cell_type": "code",
   "execution_count": 1,
   "id": "cdb03852",
   "metadata": {},
   "outputs": [],
   "source": [
    "# SVM stands for Support Vector Machine\n",
    "# Supervised Learning Algo\n",
    "# We can use in both classification and Regression\n",
    "# Perform both Linear and Non Linear data"
   ]
  },
  {
   "cell_type": "code",
   "execution_count": 2,
   "id": "627e7de6",
   "metadata": {},
   "outputs": [],
   "source": [
    "# Importing Libraries\n",
    "from sklearn.datasets import load_iris\n",
    "import numpy as np\n",
    "import matplotlib.pyplot as plt\n",
    "from sklearn.preprocessing import StandardScaler"
   ]
  },
  {
   "cell_type": "code",
   "execution_count": 3,
   "id": "ff5e1c46",
   "metadata": {},
   "outputs": [],
   "source": [
    "# Now we will load iris data\n",
    "iris = load_iris(return_X_y = False)"
   ]
  },
  {
   "cell_type": "code",
   "execution_count": 4,
   "id": "987eb49e",
   "metadata": {},
   "outputs": [
    {
     "data": {
      "text/plain": [
       "['DESCR',\n",
       " 'data',\n",
       " 'feature_names',\n",
       " 'filename',\n",
       " 'frame',\n",
       " 'target',\n",
       " 'target_names']"
      ]
     },
     "execution_count": 4,
     "metadata": {},
     "output_type": "execute_result"
    }
   ],
   "source": [
    "# Want to see attributes in iris dataset\n",
    "dir(iris)"
   ]
  },
  {
   "cell_type": "code",
   "execution_count": 6,
   "id": "77c4162d",
   "metadata": {},
   "outputs": [
    {
     "data": {
      "text/plain": [
       "['sepal length (cm)',\n",
       " 'sepal width (cm)',\n",
       " 'petal length (cm)',\n",
       " 'petal width (cm)']"
      ]
     },
     "execution_count": 6,
     "metadata": {},
     "output_type": "execute_result"
    }
   ],
   "source": [
    "# We will do analysis with only two feature for better visualization \n",
    "iris.feature_names\n",
    "# here we are choosing last 2 features"
   ]
  },
  {
   "cell_type": "code",
   "execution_count": 7,
   "id": "d8561410",
   "metadata": {},
   "outputs": [
    {
     "name": "stdout",
     "output_type": "stream",
     "text": [
      "(150, 2) (150,)\n"
     ]
    }
   ],
   "source": [
    "# taking data in X and y variable\n",
    "X = iris.data[:,2:]\n",
    "y = iris.target\n",
    "print(X.shape , y.shape)"
   ]
  },
  {
   "cell_type": "code",
   "execution_count": 14,
   "id": "71c0d0e0",
   "metadata": {},
   "outputs": [
    {
     "data": {
      "image/png": "[encoded data removed]",
      "text/plain": [
       "<Figure size 432x288 with 1 Axes>"
      ]
     },
     "metadata": {
      "needs_background": "light"
     },
     "output_type": "display_data"
    }
   ],
   "source": [
    "# Plotting data \n",
    "# In this , we have taken 1 class ak a time \n",
    "# samples is a list containing true and false accored to y == i or not -- depends on class\n",
    "# if true then only , it will plot point of that class only\n",
    "colors = [\"#e87d3f\" , \"#3bb035\" ,\"#6b5fd4\"]\n",
    "markers = [\"^\" , \"*\" , \"s\"]\n",
    "for i , name in enumerate(iris.target_names) :\n",
    "    samples = (y == i)\n",
    "    plt.scatter(X[samples , 0] , X[samples , 1] , c = colors[i] , marker = markers[i] , label = name)\n",
    "plt.legend()\n",
    "plt.show()"
   ]
  },
  {
   "cell_type": "code",
   "execution_count": 17,
   "id": "c86376bd",
   "metadata": {},
   "outputs": [
    {
     "data": {
      "text/plain": [
       "array([ True,  True,  True,  True,  True,  True,  True,  True,  True,\n",
       "        True,  True,  True,  True,  True,  True,  True,  True,  True,\n",
       "        True,  True,  True,  True,  True,  True,  True,  True,  True,\n",
       "        True,  True,  True,  True,  True,  True,  True,  True,  True,\n",
       "        True,  True,  True,  True,  True,  True,  True,  True,  True,\n",
       "        True,  True,  True,  True,  True,  True,  True,  True,  True,\n",
       "        True,  True,  True,  True,  True,  True,  True,  True,  True,\n",
       "        True,  True,  True,  True,  True,  True,  True,  True,  True,\n",
       "        True,  True,  True,  True,  True,  True,  True,  True,  True,\n",
       "        True,  True,  True,  True,  True,  True,  True,  True,  True,\n",
       "        True,  True,  True,  True,  True,  True,  True,  True,  True,\n",
       "        True, False, False, False, False, False, False, False, False,\n",
       "       False, False, False, False, False, False, False, False, False,\n",
       "       False, False, False, False, False, False, False, False, False,\n",
       "       False, False, False, False, False, False, False, False, False,\n",
       "       False, False, False, False, False, False, False, False, False,\n",
       "       False, False, False, False, False, False])"
      ]
     },
     "execution_count": 17,
     "metadata": {},
     "output_type": "execute_result"
    }
   ],
   "source": [
    "# Want to print samples with class 0 or 1\n",
    "samples = (y == 0) | (y == 1)\n",
    "samples"
   ]
  },
  {
   "cell_type": "code",
   "execution_count": 18,
   "id": "bfad3ba3",
   "metadata": {},
   "outputs": [
    {
     "name": "stdout",
     "output_type": "stream",
     "text": [
      "(100, 2) (100,)\n"
     ]
    }
   ],
   "source": [
    "# We are going to use only 2 classes that is 0 and 1 class\n",
    "X , y = X[samples] , y[samples]\n",
    "print(X.shape , y.shape)"
   ]
  },
  {
   "cell_type": "code",
   "execution_count": 19,
   "id": "946efbf2",
   "metadata": {},
   "outputs": [],
   "source": [
    "# Now we will apply SVM \n",
    "from sklearn.svm import LinearSVC"
   ]
  },
  {
   "cell_type": "code",
   "execution_count": 20,
   "id": "28b682c3",
   "metadata": {},
   "outputs": [],
   "source": [
    "lin_svc = LinearSVC()"
   ]
  },
  {
   "cell_type": "code",
   "execution_count": 23,
   "id": "90e184e0",
   "metadata": {},
   "outputs": [
    {
     "data": {
      "text/plain": [
       "LinearSVC()"
      ]
     },
     "execution_count": 23,
     "metadata": {},
     "output_type": "execute_result"
    }
   ],
   "source": [
    "lin_svc.fit(X,y)"
   ]
  },
  {
   "cell_type": "code",
   "execution_count": 24,
   "id": "2b41cd56",
   "metadata": {},
   "outputs": [
    {
     "data": {
      "text/plain": [
       "array([1])"
      ]
     },
     "execution_count": 24,
     "metadata": {},
     "output_type": "execute_result"
    }
   ],
   "source": [
    "lin_svc.predict([[2.4,1]])"
   ]
  },
  {
   "cell_type": "code",
   "execution_count": 29,
   "id": "d105a9c5",
   "metadata": {},
   "outputs": [
    {
     "data": {
      "text/plain": [
       "array([0])"
      ]
     },
     "execution_count": 29,
     "metadata": {},
     "output_type": "execute_result"
    }
   ],
   "source": [
    "lin_svc.predict([[3,0.1]])"
   ]
  },
  {
   "cell_type": "code",
   "execution_count": 39,
   "id": "90c32de1",
   "metadata": {},
   "outputs": [
    {
     "name": "stdout",
     "output_type": "stream",
     "text": [
      "(80,) (80,)\n",
      "(80, 80) (80, 80)\n",
      "(6400, 2)\n",
      "(6400,)\n"
     ]
    }
   ],
   "source": [
    "# Now we will make a decision boundary\n",
    "# make grid \n",
    "f1 = np.linspace(X[:,0].min() , X[:,0].max() , 80)\n",
    "f2 = np.linspace(X[:,1].min() , X[:,1].max() , 80)\n",
    "print(f1.shape , f2.shape)\n",
    "f1 , f2 = np.meshgrid(f1 , f2)\n",
    "print(f1.shape , f2.shape)\n",
    "X_test = np.concatenate([f1.reshape(-1,1) , f2.reshape(-1 , 1)] , axis = 1)\n",
    "print(X_test.shape)\n",
    "ypred = lin_svc.predict(X_test)\n",
    "print(ypred.shape)"
   ]
  },
  {
   "cell_type": "code",
   "execution_count": null,
   "id": "042a59af",
   "metadata": {},
   "outputs": [],
   "source": [
    "# Now we will plot all the X_test points to amke our decision boundary\n",
    "from matplotlib.colors import ListedColorMap\n",
    "cmap = ListedColorMap([\"\"])"
   ]
  },
  {
   "cell_type": "code",
   "execution_count": null,
   "id": "dfcc03d1",
   "metadata": {},
   "outputs": [],
   "source": []
  },
  {
   "cell_type": "code",
   "execution_count": null,
   "id": "b8dccbe5",
   "metadata": {},
   "outputs": [],
   "source": []
  },
  {
   "cell_type": "code",
   "execution_count": null,
   "id": "ac880747",
   "metadata": {},
   "outputs": [],
   "source": []
  },
  {
   "cell_type": "code",
   "execution_count": null,
   "id": "28b36c1f",
   "metadata": {},
   "outputs": [],
   "source": []
  },
  {
   "cell_type": "code",
   "execution_count": null,
   "id": "dce15d45",
   "metadata": {},
   "outputs": [],
   "source": []
  }
 ],
 "metadata": {
  "kernelspec": {
   "display_name": "Python 3 (ipykernel)",
   "language": "python",
   "name": "python3"
  },
  "language_info": {
   "codemirror_mode": {
    "name": "ipython",
    "version": 3
   },
   "file_extension": ".py",
   "mimetype": "text/x-python",
   "name": "python",
   "nbconvert_exporter": "python",
   "pygments_lexer": "ipython3",
   "version": "3.9.7"
  }
 },
 "nbformat": 4,
 "nbformat_minor": 5
}
