{
 "cells": [
  {
   "cell_type": "code",
   "execution_count": 1,
   "id": "4ff0e4ca",
   "metadata": {},
   "outputs": [],
   "source": [
    "import numpy as np\n",
    "import matplotlib.pyplot as plt"
   ]
  },
  {
   "cell_type": "code",
   "execution_count": 2,
   "id": "9fd91052",
   "metadata": {},
   "outputs": [],
   "source": [
    "from sklearn.datasets import make_regression"
   ]
  },
  {
   "cell_type": "code",
   "execution_count": 47,
   "id": "15647917",
   "metadata": {},
   "outputs": [],
   "source": [
    "X , y , coef = make_regression(n_samples = 100 , n_features = 1 , bias = 50 , noise = 15 , coef = True)"
   ]
  },
  {
   "cell_type": "code",
   "execution_count": 48,
   "id": "2e212b12",
   "metadata": {},
   "outputs": [
    {
     "name": "stdout",
     "output_type": "stream",
     "text": [
      "(100, 1) (100,)\n"
     ]
    }
   ],
   "source": [
    "print(X.shape , y.shape)"
   ]
  },
  {
   "cell_type": "code",
   "execution_count": 49,
   "id": "77b8cdb4",
   "metadata": {},
   "outputs": [
    {
     "name": "stdout",
     "output_type": "stream",
     "text": [
      "36.77575341905306\n"
     ]
    }
   ],
   "source": [
    "print(coef)"
   ]
  },
  {
   "cell_type": "code",
   "execution_count": 50,
   "id": "06cae06a",
   "metadata": {},
   "outputs": [
    {
     "data": {
      "image/png": "[encoded data removed]",
      "text/plain": [
       "<Figure size 432x288 with 1 Axes>"
      ]
     },
     "metadata": {
      "needs_background": "light"
     },
     "output_type": "display_data"
    }
   ],
   "source": [
    "plt.scatter(X,y)\n",
    "plt.show()"
   ]
  },
  {
   "cell_type": "code",
   "execution_count": 60,
   "id": "aaa3df81",
   "metadata": {},
   "outputs": [
    {
     "data": {
      "image/png": "[encoded data removed]",
      "text/plain": [
       "<Figure size 432x288 with 1 Axes>"
      ]
     },
     "metadata": {
      "needs_background": "light"
     },
     "output_type": "display_data"
    }
   ],
   "source": [
    "bias = 50\n",
    "plt.scatter(X,y)\n",
    "plt.scatter(0,0,c = 'red')\n",
    "plt.scatter(0,bias , c='yellow')\n",
    "plt.show()"
   ]
  },
  {
   "cell_type": "code",
   "execution_count": 61,
   "id": "d356b303",
   "metadata": {},
   "outputs": [],
   "source": [
    "# Now need to find optimal weights\n",
    "def train(X,y) :\n",
    "    X = X.copy()\n",
    "    print(X.shape)\n",
    "    ones_column = np.ones((len(X),1))\n",
    "    X = np.concatenate([ones_column , X] , axis = 1)\n",
    "    print(X)\n",
    "    print(X.shape)\n",
    "    \n",
    "    W = np.linalg.inv(X.T.dot(X)).dot(X.T).dot(y.reshape(-1,1))\n",
    "    return W"
   ]
  },
  {
   "cell_type": "code",
   "execution_count": 62,
   "id": "ea2b3229",
   "metadata": {},
   "outputs": [
    {
     "name": "stdout",
     "output_type": "stream",
     "text": [
      "(100, 1)\n",
      "[[ 1.         -0.38376914]\n",
      " [ 1.         -1.5950119 ]\n",
      " [ 1.          0.16963095]\n",
      " [ 1.          0.68990656]\n",
      " [ 1.         -0.31973993]\n",
      " [ 1.          0.00480766]\n",
      " [ 1.          0.04584366]\n",
      " [ 1.         -2.54087111]\n",
      " [ 1.          0.41116704]\n",
      " [ 1.         -1.12284225]\n",
      " [ 1.          0.67121262]\n",
      " [ 1.         -0.59363621]\n",
      " [ 1.          0.5043508 ]\n",
      " [ 1.          1.07344504]\n",
      " [ 1.          0.11431293]\n",
      " [ 1.          1.15026145]\n",
      " [ 1.          0.3341017 ]\n",
      " [ 1.         -0.1739498 ]\n",
      " [ 1.         -1.42155727]\n",
      " [ 1.         -0.05207787]\n",
      " [ 1.         -0.1239738 ]\n",
      " [ 1.          1.40496396]\n",
      " [ 1.         -0.84328287]\n",
      " [ 1.          0.90883571]\n",
      " [ 1.          2.30076558]\n",
      " [ 1.         -0.19464367]\n",
      " [ 1.         -0.55341928]\n",
      " [ 1.          0.89701453]\n",
      " [ 1.          0.52008904]\n",
      " [ 1.         -1.23457621]\n",
      " [ 1.         -0.08995004]\n",
      " [ 1.         -1.14932733]\n",
      " [ 1.         -1.41129612]\n",
      " [ 1.          0.01025254]\n",
      " [ 1.          0.40428452]\n",
      " [ 1.         -0.33958585]\n",
      " [ 1.         -0.08447035]\n",
      " [ 1.         -0.46154162]\n",
      " [ 1.          0.78297288]\n",
      " [ 1.          0.25616368]\n",
      " [ 1.          0.40915165]\n",
      " [ 1.         -0.85615274]\n",
      " [ 1.          0.44027268]\n",
      " [ 1.          1.13930581]\n",
      " [ 1.          1.37044354]\n",
      " [ 1.          0.3179294 ]\n",
      " [ 1.         -1.23861794]\n",
      " [ 1.         -1.23026259]\n",
      " [ 1.          0.73532096]\n",
      " [ 1.         -0.00692162]\n",
      " [ 1.          1.28203944]\n",
      " [ 1.          2.36195228]\n",
      " [ 1.          0.87993809]\n",
      " [ 1.          1.27914395]\n",
      " [ 1.          0.35380764]\n",
      " [ 1.          0.09562948]\n",
      " [ 1.          1.22267298]\n",
      " [ 1.          0.898872  ]\n",
      " [ 1.         -0.46364754]\n",
      " [ 1.          0.57677356]\n",
      " [ 1.          0.28341754]\n",
      " [ 1.          0.71968751]\n",
      " [ 1.          0.67720259]\n",
      " [ 1.         -0.9354374 ]\n",
      " [ 1.          0.36493914]\n",
      " [ 1.         -0.85501076]\n",
      " [ 1.          0.82209567]\n",
      " [ 1.          0.60768155]\n",
      " [ 1.          0.19103622]\n",
      " [ 1.          0.42069147]\n",
      " [ 1.          0.095516  ]\n",
      " [ 1.         -0.86697278]\n",
      " [ 1.          0.09191542]\n",
      " [ 1.         -0.32783097]\n",
      " [ 1.          1.70124829]\n",
      " [ 1.          1.1510634 ]\n",
      " [ 1.         -0.18834504]\n",
      " [ 1.         -0.75853439]\n",
      " [ 1.          0.25126439]\n",
      " [ 1.          1.2140397 ]\n",
      " [ 1.          1.44433977]\n",
      " [ 1.         -0.40291094]\n",
      " [ 1.         -1.15957321]\n",
      " [ 1.         -0.72688389]\n",
      " [ 1.          0.68484708]\n",
      " [ 1.          0.54068611]\n",
      " [ 1.          2.0672305 ]\n",
      " [ 1.          0.46251608]\n",
      " [ 1.         -0.74017134]\n",
      " [ 1.          0.86157937]\n",
      " [ 1.         -2.46255611]\n",
      " [ 1.          1.67278448]\n",
      " [ 1.         -0.00538864]\n",
      " [ 1.         -0.67080404]\n",
      " [ 1.          2.09732824]\n",
      " [ 1.         -1.39361096]\n",
      " [ 1.          1.24996178]\n",
      " [ 1.          0.80416997]\n",
      " [ 1.         -0.27031191]\n",
      " [ 1.          0.71135037]]\n",
      "(100, 2)\n",
      "[[49.34378304]\n",
      " [37.42926062]]\n"
     ]
    }
   ],
   "source": [
    "# call the function\n",
    "W = train(X,y)\n",
    "print(W)\n",
    "# here first is bias and second is weight"
   ]
  },
  {
   "cell_type": "code",
   "execution_count": 63,
   "id": "3afc14e6",
   "metadata": {},
   "outputs": [
    {
     "name": "stdout",
     "output_type": "stream",
     "text": [
      "[49.34378304] [37.42926062]\n"
     ]
    }
   ],
   "source": [
    "c,m = W\n",
    "print(c,m)"
   ]
  },
  {
   "cell_type": "code",
   "execution_count": 64,
   "id": "698fca22",
   "metadata": {},
   "outputs": [
    {
     "name": "stdout",
     "output_type": "stream",
     "text": [
      "(100,)\n",
      "[-2.54087111 -2.49134764 -2.44182417 -2.3923007  -2.34277724 -2.29325377\n",
      " -2.2437303  -2.19420683 -2.14468336 -2.09515989 -2.04563642 -1.99611296\n",
      " -1.94658949 -1.89706602 -1.84754255 -1.79801908 -1.74849561 -1.69897214\n",
      " -1.64944868 -1.59992521 -1.55040174 -1.50087827 -1.4513548  -1.40183133\n",
      " -1.35230787 -1.3027844  -1.25326093 -1.20373746 -1.15421399 -1.10469052\n",
      " -1.05516705 -1.00564359 -0.95612012 -0.90659665 -0.85707318 -0.80754971\n",
      " -0.75802624 -0.70850277 -0.65897931 -0.60945584 -0.55993237 -0.5104089\n",
      " -0.46088543 -0.41136196 -0.36183849 -0.31231503 -0.26279156 -0.21326809\n",
      " -0.16374462 -0.11422115 -0.06469768 -0.01517421  0.03434925  0.08387272\n",
      "  0.13339619  0.18291966  0.23244313  0.2819666   0.33149007  0.38101353\n",
      "  0.430537    0.48006047  0.52958394  0.57910741  0.62863088  0.67815435\n",
      "  0.72767781  0.77720128  0.82672475  0.87624822  0.92577169  0.97529516\n",
      "  1.02481863  1.07434209  1.12386556  1.17338903  1.2229125   1.27243597\n",
      "  1.32195944  1.37148291  1.42100637  1.47052984  1.52005331  1.56957678\n",
      "  1.61910025  1.66862372  1.71814719  1.76767065  1.81719412  1.86671759\n",
      "  1.91624106  1.96576453  2.015288    2.06481146  2.11433493  2.1638584\n",
      "  2.21338187  2.26290534  2.31242881  2.36195228]\n"
     ]
    }
   ],
   "source": [
    "# plot\n",
    "x = np.linspace(X.min(),X.max(),100)\n",
    "print(x.shape)\n",
    "print(x)"
   ]
  },
  {
   "cell_type": "code",
   "execution_count": 65,
   "id": "2994092b",
   "metadata": {},
   "outputs": [
    {
     "name": "stdout",
     "output_type": "stream",
     "text": [
      "[-45.75914395 -43.90551714 -42.05189033 -40.19826351 -38.3446367\n",
      " -36.49100989 -34.63738308 -32.78375627 -30.93012946 -29.07650265\n",
      " -27.22287584 -25.36924902 -23.51562221 -21.6619954  -19.80836859\n",
      " -17.95474178 -16.10111497 -14.24748816 -12.39386135 -10.54023453\n",
      "  -8.68660772  -6.83298091  -4.9793541   -3.12572729  -1.27210048\n",
      "   0.58152633   2.43515315   4.28877996   6.14240677   7.99603358\n",
      "   9.84966039  11.7032872   13.55691401  15.41054082  17.26416764\n",
      "  19.11779445  20.97142126  22.82504807  24.67867488  26.53230169\n",
      "  28.3859285   30.23955531  32.09318213  33.94680894  35.80043575\n",
      "  37.65406256  39.50768937  41.36131618  43.21494299  45.0685698\n",
      "  46.92219662  48.77582343  50.62945024  52.48307705  54.33670386\n",
      "  56.19033067  58.04395748  59.89758429  61.75121111  63.60483792\n",
      "  65.45846473  67.31209154  69.16571835  71.01934516  72.87297197\n",
      "  74.72659878  76.5802256   78.43385241  80.28747922  82.14110603\n",
      "  83.99473284  85.84835965  87.70198646  89.55561328  91.40924009\n",
      "  93.2628669   95.11649371  96.97012052  98.82374733 100.67737414\n",
      " 102.53100095 104.38462777 106.23825458 108.09188139 109.9455082\n",
      " 111.79913501 113.65276182 115.50638863 117.36001544 119.21364226\n",
      " 121.06726907 122.92089588 124.77452269 126.6281495  128.48177631\n",
      " 130.33540312 132.18902993 134.04265675 135.89628356 137.74991037]\n"
     ]
    }
   ],
   "source": [
    "y_hat = m * x + c\n",
    "print(y_hat)"
   ]
  },
  {
   "cell_type": "code",
   "execution_count": 66,
   "id": "01de7a4c",
   "metadata": {},
   "outputs": [
    {
     "data": {
      "image/png": "[encoded data removed]",
      "text/plain": [
       "<Figure size 432x288 with 1 Axes>"
      ]
     },
     "metadata": {
      "needs_background": "light"
     },
     "output_type": "display_data"
    }
   ],
   "source": [
    "plt.scatter(X,y,label = \"training data\")\n",
    "plt.plot(x,y_hat , c = 'red' , label = 'Prediction line')\n",
    "plt.legend()\n",
    "plt.show()"
   ]
  },
  {
   "cell_type": "code",
   "execution_count": null,
   "id": "33fd76cd",
   "metadata": {},
   "outputs": [],
   "source": []
  },
  {
   "cell_type": "code",
   "execution_count": null,
   "id": "fcf24602",
   "metadata": {},
   "outputs": [],
   "source": []
  },
  {
   "cell_type": "code",
   "execution_count": null,
   "id": "8a8aad2b",
   "metadata": {},
   "outputs": [],
   "source": []
  }
 ],
 "metadata": {
  "kernelspec": {
   "display_name": "Python 3 (ipykernel)",
   "language": "python",
   "name": "python3"
  },
  "language_info": {
   "codemirror_mode": {
    "name": "ipython",
    "version": 3
   },
   "file_extension": ".py",
   "mimetype": "text/x-python",
   "name": "python",
   "nbconvert_exporter": "python",
   "pygments_lexer": "ipython3",
   "version": "3.9.7"
  }
 },
 "nbformat": 4,
 "nbformat_minor": 5
}
