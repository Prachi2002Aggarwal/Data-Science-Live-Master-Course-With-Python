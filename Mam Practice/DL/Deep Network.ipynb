{
 "cells": [
  {
   "cell_type": "code",
   "execution_count": 1,
   "metadata": {
    "collapsed": true
   },
   "outputs": [],
   "source": [
    "import numpy as np"
   ]
  },
  {
   "cell_type": "code",
   "execution_count": 13,
   "outputs": [],
   "source": [
    "x = np.random.rand(2,1)\n",
    "y = np.ones((1,1))"
   ],
   "metadata": {
    "collapsed": false,
    "pycharm": {
     "name": "#%%\n"
    }
   }
  },
  {
   "cell_type": "code",
   "execution_count": 14,
   "outputs": [
    {
     "data": {
      "text/plain": "(array([[0.70123656],\n        [0.285145  ]]),\n array([[1.]]))"
     },
     "execution_count": 14,
     "metadata": {},
     "output_type": "execute_result"
    }
   ],
   "source": [
    "x, y"
   ],
   "metadata": {
    "collapsed": false,
    "pycharm": {
     "name": "#%%\n"
    }
   }
  },
  {
   "cell_type": "code",
   "execution_count": 5,
   "outputs": [],
   "source": [
    "# Activation Entity\n",
    "class ReLU:\n",
    "\n",
    "    def __init__(self):\n",
    "        pass\n",
    "\n",
    "    def forward(self, Z):\n",
    "        return np.where(Z>0, Z, np.zeros_like(Z))\n",
    "\n",
    "    def __call__(self, Z):\n",
    "        return self.forward(Z)\n",
    "\n",
    "    def grad(self, Z):\n",
    "        return {\"i\": self.grad_i(Z)}\n",
    "\n",
    "    def grad_i(self, Z):\n",
    "        return np.diag(np.where(Z>0, np.ones_like(Z), np.zeros_like(Z)).reshape(-1))\n",
    "\n",
    "class Sigmoid:\n",
    "    def  __init__(self):\n",
    "        pass\n",
    "\n",
    "    def forward(self, Z):\n",
    "        return 1/(1+np.exp(-Z))\n",
    "\n",
    "    def __call__(self, Z):\n",
    "        return self.forward(Z)\n",
    "\n",
    "    def grad(self, Z):\n",
    "        return {\"i\": self.grad_i(Z)}\n",
    "\n",
    "    def grad_i(self, Z):\n",
    "        y = self(Z)\n",
    "        return np.diag((y*(1-y)).reshape(-1))"
   ],
   "metadata": {
    "collapsed": false,
    "pycharm": {
     "name": "#%%\n"
    }
   }
  },
  {
   "cell_type": "code",
   "execution_count": 16,
   "outputs": [],
   "source": [
    "# Layer entity\n",
    "class Dense:\n",
    "\n",
    "    def __init__(self, no_of_neurons, input_size):\n",
    "\n",
    "        self.W = np.random.randn(input_size, no_of_neurons)\n",
    "        self.b = np.random.randn(no_of_neurons, 1)\n",
    "\n",
    "    def __call__(self, X):\n",
    "        return self.forward(X)\n",
    "\n",
    "    def grad(self, X):\n",
    "        return {\"i\": self.grad_i(X), \"b\": self.grad_b(X), \"w\": self.grad_w(X)}\n",
    "\n",
    "    def grad_i(self, X):\n",
    "        return self.W.T\n",
    "\n",
    "    def grad_b(self, X):\n",
    "        return np.identity(X.shape[0])\n",
    "\n",
    "    def grad_w(self, X):\n",
    "        m, n = self.W.shape\n",
    "        return np.repeat(np.eye(n), repeats=m, axis=0)*np.repeat(np.expand_dims(X, 0), repeats=n, axis=0).reshape(m*n, 1)\n",
    "\n",
    "    def forward(self, X):\n",
    "        return np.matmul(self.W.T, X) + self.b"
   ],
   "metadata": {
    "collapsed": false,
    "pycharm": {
     "name": "#%%\n"
    }
   }
  },
  {
   "cell_type": "code",
   "execution_count": 18,
   "outputs": [],
   "source": [
    "# Model entity\n",
    "class Sequential:\n",
    "\n",
    "    def __init__(self, layers=[]):\n",
    "        self.layers = layers\n",
    "\n",
    "    def __call__(self, X):\n",
    "        return self.forward(X)\n",
    "\n",
    "    def forward(self, X):\n",
    "        for layer in self.layers:\n",
    "            X = layer.forward(X)\n",
    "            #gradient calculate\n",
    "        return X\n",
    "\n",
    "    def add(self, layer):\n",
    "        self.layers.append(layer)\n",
    "        return self"
   ],
   "metadata": {
    "collapsed": false,
    "pycharm": {
     "name": "#%%\n"
    }
   }
  },
  {
   "cell_type": "code",
   "execution_count": 20,
   "outputs": [],
   "source": [
    "# Loss entity\n",
    "class BinaryCrossEntropy:\n",
    "\n",
    "    def __init__(self):\n",
    "        pass\n",
    "\n",
    "    def __call__(self, y_pred, y_true):\n",
    "        return self.forward(y_pred, y_true)\n",
    "\n",
    "    def forward(self, y_pred, y_true):\n",
    "        return np.mean(np.where(y_true == 0, -np.log(1-y_pred), -np.log(y_pred)))\n",
    "\n",
    "    # grad_i"
   ],
   "metadata": {
    "collapsed": false,
    "pycharm": {
     "name": "#%%\n"
    }
   }
  },
  {
   "cell_type": "code",
   "execution_count": 21,
   "outputs": [],
   "source": [
    "layer1 = Dense(10, 2)\n",
    "act1 = ReLU()\n",
    "layer2 = Dense(10, 10)\n",
    "act2 = ReLU()\n",
    "layer3 = Dense(10, 10)\n",
    "act3 = ReLU()\n",
    "layer4 = Dense(1, 10)"
   ],
   "metadata": {
    "collapsed": false,
    "pycharm": {
     "name": "#%%\n"
    }
   }
  },
  {
   "cell_type": "code",
   "execution_count": 22,
   "outputs": [],
   "source": [
    "model = Sequential(layers=[layer1, act1, layer2, act2, layer3, act3, layer4])"
   ],
   "metadata": {
    "collapsed": false,
    "pycharm": {
     "name": "#%%\n"
    }
   }
  },
  {
   "cell_type": "code",
   "execution_count": 23,
   "outputs": [
    {
     "data": {
      "text/plain": "<__main__.Sequential at 0x1cbd4776da0>"
     },
     "execution_count": 23,
     "metadata": {},
     "output_type": "execute_result"
    }
   ],
   "source": [
    "model.add(Sigmoid())"
   ],
   "metadata": {
    "collapsed": false,
    "pycharm": {
     "name": "#%%\n"
    }
   }
  },
  {
   "cell_type": "code",
   "execution_count": 27,
   "outputs": [
    {
     "data": {
      "text/plain": "array([[0.89872751]])"
     },
     "execution_count": 27,
     "metadata": {},
     "output_type": "execute_result"
    }
   ],
   "source": [
    "y_pred = model(x)\n",
    "y_pred"
   ],
   "metadata": {
    "collapsed": false,
    "pycharm": {
     "name": "#%%\n"
    }
   }
  },
  {
   "cell_type": "code",
   "execution_count": 28,
   "outputs": [
    {
     "data": {
      "text/plain": "0.10677539069210076"
     },
     "execution_count": 28,
     "metadata": {},
     "output_type": "execute_result"
    }
   ],
   "source": [
    "bce = BinaryCrossEntropy()\n",
    "bce(y_pred, y)"
   ],
   "metadata": {
    "collapsed": false,
    "pycharm": {
     "name": "#%%\n"
    }
   }
  },
  {
   "cell_type": "code",
   "execution_count": null,
   "outputs": [],
   "source": [],
   "metadata": {
    "collapsed": false,
    "pycharm": {
     "name": "#%%\n"
    }
   }
  }
 ],
 "metadata": {
  "kernelspec": {
   "display_name": "Python 3",
   "language": "python",
   "name": "python3"
  },
  "language_info": {
   "codemirror_mode": {
    "name": "ipython",
    "version": 2
   },
   "file_extension": ".py",
   "mimetype": "text/x-python",
   "name": "python",
   "nbconvert_exporter": "python",
   "pygments_lexer": "ipython2",
   "version": "2.7.6"
  }
 },
 "nbformat": 4,
 "nbformat_minor": 0
}