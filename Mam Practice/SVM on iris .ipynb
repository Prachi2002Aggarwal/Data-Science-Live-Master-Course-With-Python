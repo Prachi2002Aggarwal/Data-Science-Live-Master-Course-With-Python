{
 "cells": [
  {
   "cell_type": "code",
   "execution_count": 1,
   "id": "a250bcd6",
   "metadata": {},
   "outputs": [],
   "source": [
    "# SVM stands for Support Vector Machine\n",
    "# Supervised Learning Algo\n",
    "# We can use in both classification and Regression\n",
    "# Perform both Linear and Non Linear data"
   ]
  },
  {
   "cell_type": "code",
   "execution_count": 2,
   "id": "b8675422",
   "metadata": {},
   "outputs": [],
   "source": [
    "# Importing Libraries\n",
    "from sklearn.datasets import load_iris\n",
    "import numpy as np\n",
    "import matplotlib.pyplot as plt\n",
    "from sklearn.preprocessing import StandardScaler"
   ]
  },
  {
   "cell_type": "code",
   "execution_count": 3,
   "id": "9b276098",
   "metadata": {},
   "outputs": [],
   "source": [
    "# Now we will load iris data\n",
    "iris = load_iris(return_X_y = False)"
   ]
  },
  {
   "cell_type": "code",
   "execution_count": 4,
   "id": "af81efa4",
   "metadata": {},
   "outputs": [
    {
     "data": {
      "text/plain": [
       "['DESCR',\n",
       " 'data',\n",
       " 'feature_names',\n",
       " 'filename',\n",
       " 'frame',\n",
       " 'target',\n",
       " 'target_names']"
      ]
     },
     "execution_count": 4,
     "metadata": {},
     "output_type": "execute_result"
    }
   ],
   "source": [
    "# Want to see attributes in iris dataset\n",
    "dir(iris)"
   ]
  },
  {
   "cell_type": "code",
   "execution_count": 6,
   "id": "6c69263f",
   "metadata": {},
   "outputs": [
    {
     "data": {
      "text/plain": [
       "['sepal length (cm)',\n",
       " 'sepal width (cm)',\n",
       " 'petal length (cm)',\n",
       " 'petal width (cm)']"
      ]
     },
     "execution_count": 6,
     "metadata": {},
     "output_type": "execute_result"
    }
   ],
   "source": [
    "# We will do analysis with only two feature for better visualization \n",
    "iris.feature_names\n",
    "# here we are choosing last 2 features"
   ]
  },
  {
   "cell_type": "code",
   "execution_count": 7,
   "id": "998c5dc4",
   "metadata": {},
   "outputs": [
    {
     "name": "stdout",
     "output_type": "stream",
     "text": [
      "(150, 2) (150,)\n"
     ]
    }
   ],
   "source": [
    "# taking data in X and y variable\n",
    "X = iris.data[:,2:]\n",
    "y = iris.target\n",
    "print(X.shape , y.shape)"
   ]
  },
  {
   "cell_type": "code",
   "execution_count": 14,
   "id": "0517a1cc",
   "metadata": {},
   "outputs": [
    {
     "data": {
      "image/png": "[encoded data removed]",
      "text/plain": [
       "<Figure size 432x288 with 1 Axes>"
      ]
     },
     "metadata": {
      "needs_background": "light"
     },
     "output_type": "display_data"
    }
   ],
   "source": [
    "# Plotting data \n",
    "# In this , we have taken 1 class ak a time \n",
    "# samples is a list containing true and false accored to y == i or not -- depends on class\n",
    "# if true then only , it will plot point of that class only\n",
    "colors = [\"#e87d3f\" , \"#3bb035\" ,\"#6b5fd4\"]\n",
    "markers = [\"^\" , \"*\" , \"s\"]\n",
    "for i , name in enumerate(iris.target_names) :\n",
    "    samples = (y == i)\n",
    "    plt.scatter(X[samples , 0] , X[samples , 1] , c = colors[i] , marker = markers[i] , label = name)\n",
    "plt.legend()\n",
    "plt.show()"
   ]
  },
  {
   "cell_type": "code",
   "execution_count": 17,
   "id": "fbdf1cd2",
   "metadata": {},
   "outputs": [
    {
     "data": {
      "text/plain": [
       "array([ True,  True,  True,  True,  True,  True,  True,  True,  True,\n",
       "        True,  True,  True,  True,  True,  True,  True,  True,  True,\n",
       "        True,  True,  True,  True,  True,  True,  True,  True,  True,\n",
       "        True,  True,  True,  True,  True,  True,  True,  True,  True,\n",
       "        True,  True,  True,  True,  True,  True,  True,  True,  True,\n",
       "        True,  True,  True,  True,  True,  True,  True,  True,  True,\n",
       "        True,  True,  True,  True,  True,  True,  True,  True,  True,\n",
       "        True,  True,  True,  True,  True,  True,  True,  True,  True,\n",
       "        True,  True,  True,  True,  True,  True,  True,  True,  True,\n",
       "        True,  True,  True,  True,  True,  True,  True,  True,  True,\n",
       "        True,  True,  True,  True,  True,  True,  True,  True,  True,\n",
       "        True, False, False, False, False, False, False, False, False,\n",
       "       False, False, False, False, False, False, False, False, False,\n",
       "       False, False, False, False, False, False, False, False, False,\n",
       "       False, False, False, False, False, False, False, False, False,\n",
       "       False, False, False, False, False, False, False, False, False,\n",
       "       False, False, False, False, False, False])"
      ]
     },
     "execution_count": 17,
     "metadata": {},
     "output_type": "execute_result"
    }
   ],
   "source": [
    "# Want to print samples with class 0 or 1\n",
    "samples = (y == 0) | (y == 1)\n",
    "samples"
   ]
  },
  {
   "cell_type": "code",
   "execution_count": 18,
   "id": "6edefabc",
   "metadata": {},
   "outputs": [
    {
     "name": "stdout",
     "output_type": "stream",
     "text": [
      "(100, 2) (100,)\n"
     ]
    }
   ],
   "source": [
    "# We are going to use only 2 classes that is 0 and 1 class\n",
    "X , y = X[samples] , y[samples]\n",
    "print(X.shape , y.shape)"
   ]
  },
  {
   "cell_type": "code",
   "execution_count": 19,
   "id": "9bc62730",
   "metadata": {},
   "outputs": [],
   "source": [
    "# Now we will apply SVM \n",
    "from sklearn.svm import LinearSVC"
   ]
  },
  {
   "cell_type": "code",
   "execution_count": 20,
   "id": "a09935a6",
   "metadata": {},
   "outputs": [],
   "source": [
    "lin_svc = LinearSVC()"
   ]
  },
  {
   "cell_type": "code",
   "execution_count": 23,
   "id": "1b049160",
   "metadata": {},
   "outputs": [
    {
     "data": {
      "text/plain": [
       "LinearSVC()"
      ]
     },
     "execution_count": 23,
     "metadata": {},
     "output_type": "execute_result"
    }
   ],
   "source": [
    "lin_svc.fit(X,y)"
   ]
  },
  {
   "cell_type": "code",
   "execution_count": 24,
   "id": "942e96c3",
   "metadata": {},
   "outputs": [
    {
     "data": {
      "text/plain": [
       "array([1])"
      ]
     },
     "execution_count": 24,
     "metadata": {},
     "output_type": "execute_result"
    }
   ],
   "source": [
    "lin_svc.predict([[2.4,1]])"
   ]
  },
  {
   "cell_type": "code",
   "execution_count": 29,
   "id": "cc067050",
   "metadata": {},
   "outputs": [
    {
     "data": {
      "text/plain": [
       "array([0])"
      ]
     },
     "execution_count": 29,
     "metadata": {},
     "output_type": "execute_result"
    }
   ],
   "source": [
    "lin_svc.predict([[3,0.1]])"
   ]
  },
  {
   "cell_type": "code",
   "execution_count": 39,
   "id": "ea2ab936",
   "metadata": {},
   "outputs": [
    {
     "name": "stdout",
     "output_type": "stream",
     "text": [
      "(80,) (80,)\n",
      "(80, 80) (80, 80)\n",
      "(6400, 2)\n",
      "(6400,)\n"
     ]
    }
   ],
   "source": [
    "# Now we will make a decision boundary\n",
    "# make grid \n",
    "f1 = np.linspace(X[:,0].min() , X[:,0].max() , 80)\n",
    "f2 = np.linspace(X[:,1].min() , X[:,1].max() , 80)\n",
    "print(f1.shape , f2.shape)\n",
    "f1 , f2 = np.meshgrid(f1 , f2)\n",
    "print(f1.shape , f2.shape)\n",
    "X_test = np.concatenate([f1.reshape(-1,1) , f2.reshape(-1 , 1)] , axis = 1)\n",
    "print(X_test.shape)\n",
    "ypred = lin_svc.predict(X_test)\n",
    "print(ypred.shape)"
   ]
  },
  {
   "cell_type": "code",
   "execution_count": 44,
   "id": "bec2e24c",
   "metadata": {},
   "outputs": [
    {
     "data": {
      "image/png": "[encoded data removed]",
      "text/plain": [
       "<Figure size 432x288 with 1 Axes>"
      ]
     },
     "metadata": {
      "needs_background": "light"
     },
     "output_type": "display_data"
    }
   ],
   "source": [
    "# Now we will plot all the X_test points to amke our decision boundary\n",
    "from matplotlib.colors import ListedColormap\n",
    "cmap = ListedColormap([\"#c6f79e\", \"#cbadff\"])\n",
    "\n",
    "plt.scatter(X_test [:,0] , X_test[:,1] , c = ypred , cmap = cmap)\n",
    "\n",
    "colors = [\"#e87d3f\" , \"#3bb035\" ,\"#6b5fd4\"]\n",
    "markers = [\"^\" , \"*\" , \"s\"]\n",
    "for i , name in enumerate(iris.target_names) :\n",
    "    samples = (y == i)\n",
    "    plt.scatter(X[samples , 0] , X[samples , 1] , c = colors[i] , marker = markers[i] , label = name)\n",
    "plt.legend()\n",
    "plt.scatter(2.4 , 1 , c = 'r')\n",
    "plt.scatter(3 , 0.2 , c = 'b')\n",
    "plt.show()"
   ]
  },
  {
   "cell_type": "code",
   "execution_count": 45,
   "id": "c2102bfd",
   "metadata": {},
   "outputs": [],
   "source": [
    "# Parameter C - Hyper Parameter\n",
    "# more C : Hard Margin Classifier\n",
    "# less C : Soft Margin Classifier"
   ]
  },
  {
   "cell_type": "code",
   "execution_count": 47,
   "id": "fda97021",
   "metadata": {},
   "outputs": [
    {
     "name": "stdout",
     "output_type": "stream",
     "text": [
      "(101, 2)\n"
     ]
    }
   ],
   "source": [
    "# Let us introduce a outlier \n",
    "X_ = np.concatenate([X , [[3,1]]] , axis = 0)\n",
    "print(X_.shape)"
   ]
  },
  {
   "cell_type": "code",
   "execution_count": 48,
   "id": "bbdafac2",
   "metadata": {},
   "outputs": [
    {
     "name": "stdout",
     "output_type": "stream",
     "text": [
      "(101,)\n"
     ]
    }
   ],
   "source": [
    "y_ = np.concatenate([y , [0]] , axis = 0)\n",
    "print(y_.shape)"
   ]
  },
  {
   "cell_type": "code",
   "execution_count": 49,
   "id": "dcb8d790",
   "metadata": {},
   "outputs": [
    {
     "data": {
      "text/plain": [
       "LinearSVC(C=1)"
      ]
     },
     "execution_count": 49,
     "metadata": {},
     "output_type": "execute_result"
    }
   ],
   "source": [
    "# making LinearSVC for soft \n",
    "linsvc2 = LinearSVC(C = 1)\n",
    "linsvc2.fit(X_,y_)"
   ]
  },
  {
   "cell_type": "code",
   "execution_count": 50,
   "id": "ae00b515",
   "metadata": {},
   "outputs": [],
   "source": [
    "ypred2 = linsvc2.predict(X_test)"
   ]
  },
  {
   "cell_type": "code",
   "execution_count": 52,
   "id": "75f9fcd1",
   "metadata": {},
   "outputs": [
    {
     "data": {
      "image/png": "[encoded data removed]",
      "text/plain": [
       "<Figure size 432x288 with 1 Axes>"
      ]
     },
     "metadata": {
      "needs_background": "light"
     },
     "output_type": "display_data"
    }
   ],
   "source": [
    "# Now we will plot the data\n",
    "plt.scatter(X_test [:,0] , X_test[:,1] , c = ypred2 , cmap = cmap)\n",
    "\n",
    "colors = [\"#e87d3f\" , \"#3bb035\" ,\"#6b5fd4\"]\n",
    "markers = [\"^\" , \"*\" , \"s\"]\n",
    "for i , name in enumerate(iris.target_names) :\n",
    "    samples = (y_ == i)\n",
    "    plt.scatter(X_[samples , 0] , X_[samples , 1] , c = colors[i] , marker = markers[i] , label = name)\n",
    "plt.legend()\n",
    "plt.show()"
   ]
  },
  {
   "cell_type": "code",
   "execution_count": 54,
   "id": "7d80cf21",
   "metadata": {},
   "outputs": [
    {
     "name": "stderr",
     "output_type": "stream",
     "text": [
      "D:\\Anaconda3\\lib\\site-packages\\sklearn\\svm\\_base.py:985: ConvergenceWarning: Liblinear failed to converge, increase the number of iterations.\n",
      "  warnings.warn(\"Liblinear failed to converge, increase \"\n"
     ]
    },
    {
     "data": {
      "image/png": "[encoded data removed]",
      "text/plain": [
       "<Figure size 432x288 with 1 Axes>"
      ]
     },
     "metadata": {
      "needs_background": "light"
     },
     "output_type": "display_data"
    }
   ],
   "source": [
    "# making LinearSVC for hard\n",
    "linsvc3 = LinearSVC(C = 1000)\n",
    "linsvc3.fit(X_,y_)\n",
    "ypred3 = linsvc3.predict(X_test)\n",
    "\n",
    "plt.scatter(X_test [:,0] , X_test[:,1] , c = ypred3 , cmap = cmap)\n",
    "\n",
    "colors = [\"#e87d3f\" , \"#3bb035\" ,\"#6b5fd4\"]\n",
    "markers = [\"^\" , \"*\" , \"s\"]\n",
    "for i , name in enumerate(iris.target_names) :\n",
    "    samples = (y_ == i)\n",
    "    plt.scatter(X_[samples , 0] , X_[samples , 1] , c = colors[i] , marker = markers[i] , label = name)\n",
    "plt.legend()\n",
    "plt.show()"
   ]
  },
  {
   "cell_type": "code",
   "execution_count": 55,
   "id": "6c347c82",
   "metadata": {},
   "outputs": [],
   "source": [
    "# Kernel "
   ]
  },
  {
   "cell_type": "code",
   "execution_count": 59,
   "id": "d1754dbe",
   "metadata": {},
   "outputs": [],
   "source": [
    "from sklearn.svm import SVC\n",
    "svc = SVC (kernel = 'poly' , degree = 3 , C = 1)\n",
    "svc.fit(X_, y_)\n",
    "ypred = svc.predict(X_test)"
   ]
  },
  {
   "cell_type": "code",
   "execution_count": 60,
   "id": "5956e83c",
   "metadata": {},
   "outputs": [
    {
     "data": {
      "image/png": "[encoded data removed]",
      "text/plain": [
       "<Figure size 432x288 with 1 Axes>"
      ]
     },
     "metadata": {
      "needs_background": "light"
     },
     "output_type": "display_data"
    }
   ],
   "source": [
    "# plotting data\n",
    "plt.scatter(X_test [:,0] , X_test[:,1] , c = ypred , cmap = cmap)\n",
    "\n",
    "colors = [\"#e87d3f\" , \"#3bb035\" ,\"#6b5fd4\"]\n",
    "markers = [\"^\" , \"*\" , \"s\"]\n",
    "for i , name in enumerate(iris.target_names) :\n",
    "    samples = (y_ == i)\n",
    "    plt.scatter(X_[samples , 0] , X_[samples , 1] , c = colors[i] , marker = markers[i] , label = name)\n",
    "plt.legend()\n",
    "plt.show()"
   ]
  },
  {
   "cell_type": "code",
   "execution_count": 61,
   "id": "a65a8616",
   "metadata": {},
   "outputs": [],
   "source": [
    "# now for hard\n",
    "svc2 = SVC (kernel = 'poly' , degree = 2 , C = 1000)\n",
    "svc2.fit(X_, y_)\n",
    "ypred = svc2.predict(X_test)"
   ]
  },
  {
   "cell_type": "code",
   "execution_count": 62,
   "id": "905e1aa4",
   "metadata": {},
   "outputs": [
    {
     "data": {
      "image/png": "[encoded data removed]",
      "text/plain": [
       "<Figure size 432x288 with 1 Axes>"
      ]
     },
     "metadata": {
      "needs_background": "light"
     },
     "output_type": "display_data"
    }
   ],
   "source": [
    "plt.scatter(X_test [:,0] , X_test[:,1] , c = ypred , cmap = cmap)\n",
    "\n",
    "colors = [\"#e87d3f\" , \"#3bb035\" ,\"#6b5fd4\"]\n",
    "markers = [\"^\" , \"*\" , \"s\"]\n",
    "for i , name in enumerate(iris.target_names) :\n",
    "    samples = (y_ == i)\n",
    "    plt.scatter(X_[samples , 0] , X_[samples , 1] , c = colors[i] , marker = markers[i] , label = name)\n",
    "plt.legend()\n",
    "plt.show()"
   ]
  },
  {
   "cell_type": "code",
   "execution_count": null,
   "id": "567339b5",
   "metadata": {},
   "outputs": [],
   "source": []
  }
 ],
 "metadata": {
  "kernelspec": {
   "display_name": "Python 3 (ipykernel)",
   "language": "python",
   "name": "python3"
  },
  "language_info": {
   "codemirror_mode": {
    "name": "ipython",
    "version": 3
   },
   "file_extension": ".py",
   "mimetype": "text/x-python",
   "name": "python",
   "nbconvert_exporter": "python",
   "pygments_lexer": "ipython3",
   "version": "3.9.7"
  }
 },
 "nbformat": 4,
 "nbformat_minor": 5
}
